{
 "cells": [
  {
   "cell_type": "code",
   "execution_count": 5,
   "id": "03cd1ccf-0fdd-4932-a84e-ddeede96f4fd",
   "metadata": {},
   "outputs": [],
   "source": [
    "import numpy as np \n",
    "import pandas as pd"
   ]
  },
  {
   "cell_type": "code",
   "execution_count": 7,
   "id": "f1cfb0df-de62-46a2-8719-82a09c6a9f6b",
   "metadata": {},
   "outputs": [],
   "source": [
    "dict1 = {\n",
    "    \"name\": ['Abdullah', 'Umair', 'Usman', 'Sameer'],\n",
    "    \"marks\": [92,34,56,85],\n",
    "    \"city\": ['Karachi', 'Peshawar', 'Islamabad', 'Lahore' ]\n",
    "}"
   ]
  },
  {
   "cell_type": "code",
   "execution_count": 9,
   "id": "74ae4ac2-78f5-4fd1-ae95-a41601587d1b",
   "metadata": {},
   "outputs": [],
   "source": [
    "df = pd.DataFrame(dict1)"
   ]
  },
  {
   "cell_type": "code",
   "execution_count": 11,
   "id": "0a2f9152-9f43-4a01-889e-19e26a9efd36",
   "metadata": {},
   "outputs": [
    {
     "data": {
      "text/html": [
       "<div>\n",
       "<style scoped>\n",
       "    .dataframe tbody tr th:only-of-type {\n",
       "        vertical-align: middle;\n",
       "    }\n",
       "\n",
       "    .dataframe tbody tr th {\n",
       "        vertical-align: top;\n",
       "    }\n",
       "\n",
       "    .dataframe thead th {\n",
       "        text-align: right;\n",
       "    }\n",
       "</style>\n",
       "<table border=\"1\" class=\"dataframe\">\n",
       "  <thead>\n",
       "    <tr style=\"text-align: right;\">\n",
       "      <th></th>\n",
       "      <th>name</th>\n",
       "      <th>marks</th>\n",
       "      <th>city</th>\n",
       "    </tr>\n",
       "  </thead>\n",
       "  <tbody>\n",
       "    <tr>\n",
       "      <th>0</th>\n",
       "      <td>Abdullah</td>\n",
       "      <td>92</td>\n",
       "      <td>Karachi</td>\n",
       "    </tr>\n",
       "    <tr>\n",
       "      <th>1</th>\n",
       "      <td>Umair</td>\n",
       "      <td>34</td>\n",
       "      <td>Peshawar</td>\n",
       "    </tr>\n",
       "    <tr>\n",
       "      <th>2</th>\n",
       "      <td>Usman</td>\n",
       "      <td>56</td>\n",
       "      <td>Islamabad</td>\n",
       "    </tr>\n",
       "    <tr>\n",
       "      <th>3</th>\n",
       "      <td>Sameer</td>\n",
       "      <td>85</td>\n",
       "      <td>Lahore</td>\n",
       "    </tr>\n",
       "  </tbody>\n",
       "</table>\n",
       "</div>"
      ],
      "text/plain": [
       "       name  marks       city\n",
       "0  Abdullah     92    Karachi\n",
       "1     Umair     34   Peshawar\n",
       "2     Usman     56  Islamabad\n",
       "3    Sameer     85     Lahore"
      ]
     },
     "execution_count": 11,
     "metadata": {},
     "output_type": "execute_result"
    }
   ],
   "source": [
    "df"
   ]
  },
  {
   "cell_type": "code",
   "execution_count": 13,
   "id": "def9bbba-4546-4c1e-ab99-205ca5a1d17a",
   "metadata": {},
   "outputs": [],
   "source": [
    "df.to_csv(\"friends.csv\")"
   ]
  },
  {
   "cell_type": "code",
   "execution_count": 15,
   "id": "b8f81f7f-a20b-4a89-b160-82ed60f12777",
   "metadata": {},
   "outputs": [],
   "source": [
    "df.to_csv(\"friends_index_false.csv\", index=False)"
   ]
  },
  {
   "cell_type": "code",
   "execution_count": 17,
   "id": "45f2c8a4-c4c4-4295-858e-a4870449345c",
   "metadata": {},
   "outputs": [
    {
     "data": {
      "text/html": [
       "<div>\n",
       "<style scoped>\n",
       "    .dataframe tbody tr th:only-of-type {\n",
       "        vertical-align: middle;\n",
       "    }\n",
       "\n",
       "    .dataframe tbody tr th {\n",
       "        vertical-align: top;\n",
       "    }\n",
       "\n",
       "    .dataframe thead th {\n",
       "        text-align: right;\n",
       "    }\n",
       "</style>\n",
       "<table border=\"1\" class=\"dataframe\">\n",
       "  <thead>\n",
       "    <tr style=\"text-align: right;\">\n",
       "      <th></th>\n",
       "      <th>name</th>\n",
       "      <th>marks</th>\n",
       "      <th>city</th>\n",
       "    </tr>\n",
       "  </thead>\n",
       "  <tbody>\n",
       "    <tr>\n",
       "      <th>0</th>\n",
       "      <td>Abdullah</td>\n",
       "      <td>92</td>\n",
       "      <td>Karachi</td>\n",
       "    </tr>\n",
       "    <tr>\n",
       "      <th>1</th>\n",
       "      <td>Umair</td>\n",
       "      <td>34</td>\n",
       "      <td>Peshawar</td>\n",
       "    </tr>\n",
       "  </tbody>\n",
       "</table>\n",
       "</div>"
      ],
      "text/plain": [
       "       name  marks      city\n",
       "0  Abdullah     92   Karachi\n",
       "1     Umair     34  Peshawar"
      ]
     },
     "execution_count": 17,
     "metadata": {},
     "output_type": "execute_result"
    }
   ],
   "source": [
    "df.head(2)"
   ]
  },
  {
   "cell_type": "code",
   "execution_count": 19,
   "id": "0b59fada-b3f2-4dda-ba75-27c08da7f128",
   "metadata": {},
   "outputs": [
    {
     "data": {
      "text/html": [
       "<div>\n",
       "<style scoped>\n",
       "    .dataframe tbody tr th:only-of-type {\n",
       "        vertical-align: middle;\n",
       "    }\n",
       "\n",
       "    .dataframe tbody tr th {\n",
       "        vertical-align: top;\n",
       "    }\n",
       "\n",
       "    .dataframe thead th {\n",
       "        text-align: right;\n",
       "    }\n",
       "</style>\n",
       "<table border=\"1\" class=\"dataframe\">\n",
       "  <thead>\n",
       "    <tr style=\"text-align: right;\">\n",
       "      <th></th>\n",
       "      <th>name</th>\n",
       "      <th>marks</th>\n",
       "      <th>city</th>\n",
       "    </tr>\n",
       "  </thead>\n",
       "  <tbody>\n",
       "    <tr>\n",
       "      <th>2</th>\n",
       "      <td>Usman</td>\n",
       "      <td>56</td>\n",
       "      <td>Islamabad</td>\n",
       "    </tr>\n",
       "    <tr>\n",
       "      <th>3</th>\n",
       "      <td>Sameer</td>\n",
       "      <td>85</td>\n",
       "      <td>Lahore</td>\n",
       "    </tr>\n",
       "  </tbody>\n",
       "</table>\n",
       "</div>"
      ],
      "text/plain": [
       "     name  marks       city\n",
       "2   Usman     56  Islamabad\n",
       "3  Sameer     85     Lahore"
      ]
     },
     "execution_count": 19,
     "metadata": {},
     "output_type": "execute_result"
    }
   ],
   "source": [
    "df.tail(2)"
   ]
  },
  {
   "cell_type": "code",
   "execution_count": 21,
   "id": "3a4373a3-4a5a-46ab-9c64-1ec63be969ea",
   "metadata": {},
   "outputs": [
    {
     "data": {
      "text/html": [
       "<div>\n",
       "<style scoped>\n",
       "    .dataframe tbody tr th:only-of-type {\n",
       "        vertical-align: middle;\n",
       "    }\n",
       "\n",
       "    .dataframe tbody tr th {\n",
       "        vertical-align: top;\n",
       "    }\n",
       "\n",
       "    .dataframe thead th {\n",
       "        text-align: right;\n",
       "    }\n",
       "</style>\n",
       "<table border=\"1\" class=\"dataframe\">\n",
       "  <thead>\n",
       "    <tr style=\"text-align: right;\">\n",
       "      <th></th>\n",
       "      <th>marks</th>\n",
       "    </tr>\n",
       "  </thead>\n",
       "  <tbody>\n",
       "    <tr>\n",
       "      <th>count</th>\n",
       "      <td>4.00000</td>\n",
       "    </tr>\n",
       "    <tr>\n",
       "      <th>mean</th>\n",
       "      <td>66.75000</td>\n",
       "    </tr>\n",
       "    <tr>\n",
       "      <th>std</th>\n",
       "      <td>26.82505</td>\n",
       "    </tr>\n",
       "    <tr>\n",
       "      <th>min</th>\n",
       "      <td>34.00000</td>\n",
       "    </tr>\n",
       "    <tr>\n",
       "      <th>25%</th>\n",
       "      <td>50.50000</td>\n",
       "    </tr>\n",
       "    <tr>\n",
       "      <th>50%</th>\n",
       "      <td>70.50000</td>\n",
       "    </tr>\n",
       "    <tr>\n",
       "      <th>75%</th>\n",
       "      <td>86.75000</td>\n",
       "    </tr>\n",
       "    <tr>\n",
       "      <th>max</th>\n",
       "      <td>92.00000</td>\n",
       "    </tr>\n",
       "  </tbody>\n",
       "</table>\n",
       "</div>"
      ],
      "text/plain": [
       "          marks\n",
       "count   4.00000\n",
       "mean   66.75000\n",
       "std    26.82505\n",
       "min    34.00000\n",
       "25%    50.50000\n",
       "50%    70.50000\n",
       "75%    86.75000\n",
       "max    92.00000"
      ]
     },
     "execution_count": 21,
     "metadata": {},
     "output_type": "execute_result"
    }
   ],
   "source": [
    "# calculate all the below entites of the numerical columns in dataFrame\n",
    "df.describe()"
   ]
  },
  {
   "cell_type": "code",
   "execution_count": 23,
   "id": "f34f38b7-5c5e-4b9b-943e-d86df1900f1f",
   "metadata": {},
   "outputs": [],
   "source": [
    "abdullah = pd.read_csv('abdullah.csv')"
   ]
  },
  {
   "cell_type": "code",
   "execution_count": 25,
   "id": "c4725ba8-88ec-44b1-ba36-d792ffadf1ee",
   "metadata": {},
   "outputs": [
    {
     "data": {
      "text/html": [
       "<div>\n",
       "<style scoped>\n",
       "    .dataframe tbody tr th:only-of-type {\n",
       "        vertical-align: middle;\n",
       "    }\n",
       "\n",
       "    .dataframe tbody tr th {\n",
       "        vertical-align: top;\n",
       "    }\n",
       "\n",
       "    .dataframe thead th {\n",
       "        text-align: right;\n",
       "    }\n",
       "</style>\n",
       "<table border=\"1\" class=\"dataframe\">\n",
       "  <thead>\n",
       "    <tr style=\"text-align: right;\">\n",
       "      <th></th>\n",
       "      <th>Train No</th>\n",
       "      <th>Speed</th>\n",
       "      <th>city</th>\n",
       "    </tr>\n",
       "  </thead>\n",
       "  <tbody>\n",
       "    <tr>\n",
       "      <th>0</th>\n",
       "      <td>165465</td>\n",
       "      <td>56</td>\n",
       "      <td>Karachi</td>\n",
       "    </tr>\n",
       "    <tr>\n",
       "      <th>1</th>\n",
       "      <td>14564</td>\n",
       "      <td>32</td>\n",
       "      <td>Peshawar</td>\n",
       "    </tr>\n",
       "    <tr>\n",
       "      <th>2</th>\n",
       "      <td>445615</td>\n",
       "      <td>59</td>\n",
       "      <td>Islamabad</td>\n",
       "    </tr>\n",
       "    <tr>\n",
       "      <th>3</th>\n",
       "      <td>145615</td>\n",
       "      <td>26</td>\n",
       "      <td>Lahore</td>\n",
       "    </tr>\n",
       "  </tbody>\n",
       "</table>\n",
       "</div>"
      ],
      "text/plain": [
       "   Train No  Speed       city\n",
       "0    165465     56    Karachi\n",
       "1     14564     32   Peshawar\n",
       "2    445615     59  Islamabad\n",
       "3    145615     26     Lahore"
      ]
     },
     "execution_count": 25,
     "metadata": {},
     "output_type": "execute_result"
    }
   ],
   "source": [
    "abdullah"
   ]
  },
  {
   "cell_type": "code",
   "execution_count": 29,
   "id": "068effcd-5880-48fd-be20-386ad18e4003",
   "metadata": {},
   "outputs": [
    {
     "data": {
      "text/plain": [
       "56"
      ]
     },
     "execution_count": 29,
     "metadata": {},
     "output_type": "execute_result"
    }
   ],
   "source": [
    "abdullah['Speed'][0]"
   ]
  },
  {
   "cell_type": "code",
   "execution_count": 31,
   "id": "26c0e22f-e536-4d11-8bd0-787b1c9cdce0",
   "metadata": {},
   "outputs": [
    {
     "name": "stderr",
     "output_type": "stream",
     "text": [
      "C:\\Users\\Hamid\\AppData\\Local\\Temp\\ipykernel_1060\\577262891.py:1: SettingWithCopyWarning: \n",
      "A value is trying to be set on a copy of a slice from a DataFrame\n",
      "\n",
      "See the caveats in the documentation: https://pandas.pydata.org/pandas-docs/stable/user_guide/indexing.html#returning-a-view-versus-a-copy\n",
      "  abdullah['Speed'][0] = 100\n"
     ]
    }
   ],
   "source": [
    "abdullah['Speed'][0] = 100"
   ]
  },
  {
   "cell_type": "code",
   "execution_count": 33,
   "id": "cb92191d-3a7a-486a-979c-3a8481b62f2f",
   "metadata": {},
   "outputs": [
    {
     "data": {
      "text/html": [
       "<div>\n",
       "<style scoped>\n",
       "    .dataframe tbody tr th:only-of-type {\n",
       "        vertical-align: middle;\n",
       "    }\n",
       "\n",
       "    .dataframe tbody tr th {\n",
       "        vertical-align: top;\n",
       "    }\n",
       "\n",
       "    .dataframe thead th {\n",
       "        text-align: right;\n",
       "    }\n",
       "</style>\n",
       "<table border=\"1\" class=\"dataframe\">\n",
       "  <thead>\n",
       "    <tr style=\"text-align: right;\">\n",
       "      <th></th>\n",
       "      <th>Train No</th>\n",
       "      <th>Speed</th>\n",
       "      <th>city</th>\n",
       "    </tr>\n",
       "  </thead>\n",
       "  <tbody>\n",
       "    <tr>\n",
       "      <th>0</th>\n",
       "      <td>165465</td>\n",
       "      <td>100</td>\n",
       "      <td>Karachi</td>\n",
       "    </tr>\n",
       "    <tr>\n",
       "      <th>1</th>\n",
       "      <td>14564</td>\n",
       "      <td>32</td>\n",
       "      <td>Peshawar</td>\n",
       "    </tr>\n",
       "    <tr>\n",
       "      <th>2</th>\n",
       "      <td>445615</td>\n",
       "      <td>59</td>\n",
       "      <td>Islamabad</td>\n",
       "    </tr>\n",
       "    <tr>\n",
       "      <th>3</th>\n",
       "      <td>145615</td>\n",
       "      <td>26</td>\n",
       "      <td>Lahore</td>\n",
       "    </tr>\n",
       "  </tbody>\n",
       "</table>\n",
       "</div>"
      ],
      "text/plain": [
       "   Train No  Speed       city\n",
       "0    165465    100    Karachi\n",
       "1     14564     32   Peshawar\n",
       "2    445615     59  Islamabad\n",
       "3    145615     26     Lahore"
      ]
     },
     "execution_count": 33,
     "metadata": {},
     "output_type": "execute_result"
    }
   ],
   "source": [
    "abdullah"
   ]
  },
  {
   "cell_type": "code",
   "execution_count": 35,
   "id": "27002ddd-ce91-415c-8d48-8f33e63d69ea",
   "metadata": {},
   "outputs": [],
   "source": [
    "abdullah.to_csv('abdullah.csv')"
   ]
  },
  {
   "cell_type": "code",
   "execution_count": 37,
   "id": "c8a0393f-657d-4ddc-a808-60bdd1639d94",
   "metadata": {},
   "outputs": [],
   "source": [
    "ser = pd.Series(np.random.rand(10))"
   ]
  },
  {
   "cell_type": "code",
   "execution_count": 39,
   "id": "2ae84794-c5e0-4e03-830e-f70dff99649b",
   "metadata": {},
   "outputs": [
    {
     "data": {
      "text/plain": [
       "0    0.412265\n",
       "1    0.913219\n",
       "2    0.777325\n",
       "3    0.523231\n",
       "4    0.838686\n",
       "5    0.578817\n",
       "6    0.461363\n",
       "7    0.356095\n",
       "8    0.921660\n",
       "9    0.776135\n",
       "dtype: float64"
      ]
     },
     "execution_count": 39,
     "metadata": {},
     "output_type": "execute_result"
    }
   ],
   "source": [
    "ser"
   ]
  },
  {
   "cell_type": "code",
   "execution_count": 41,
   "id": "a0da6c94-fa64-4c53-8c84-3d2ea8899c5a",
   "metadata": {},
   "outputs": [
    {
     "data": {
      "text/plain": [
       "pandas.core.series.Series"
      ]
     },
     "execution_count": 41,
     "metadata": {},
     "output_type": "execute_result"
    }
   ],
   "source": [
    "type(ser)"
   ]
  },
  {
   "cell_type": "code",
   "execution_count": 43,
   "id": "31cfbeaf-b2a9-415b-8b48-6bfdfe0b1e67",
   "metadata": {},
   "outputs": [],
   "source": [
    "newdf = pd.DataFrame(np.random.rand(334,5), index=np.arange(334))"
   ]
  },
  {
   "cell_type": "code",
   "execution_count": 45,
   "id": "433714f7-4169-40c2-85b8-a37da52f4a14",
   "metadata": {},
   "outputs": [
    {
     "data": {
      "text/html": [
       "<div>\n",
       "<style scoped>\n",
       "    .dataframe tbody tr th:only-of-type {\n",
       "        vertical-align: middle;\n",
       "    }\n",
       "\n",
       "    .dataframe tbody tr th {\n",
       "        vertical-align: top;\n",
       "    }\n",
       "\n",
       "    .dataframe thead th {\n",
       "        text-align: right;\n",
       "    }\n",
       "</style>\n",
       "<table border=\"1\" class=\"dataframe\">\n",
       "  <thead>\n",
       "    <tr style=\"text-align: right;\">\n",
       "      <th></th>\n",
       "      <th>0</th>\n",
       "      <th>1</th>\n",
       "      <th>2</th>\n",
       "      <th>3</th>\n",
       "      <th>4</th>\n",
       "    </tr>\n",
       "  </thead>\n",
       "  <tbody>\n",
       "    <tr>\n",
       "      <th>0</th>\n",
       "      <td>0.267966</td>\n",
       "      <td>0.343110</td>\n",
       "      <td>0.719370</td>\n",
       "      <td>0.919940</td>\n",
       "      <td>0.927085</td>\n",
       "    </tr>\n",
       "    <tr>\n",
       "      <th>1</th>\n",
       "      <td>0.258618</td>\n",
       "      <td>0.237000</td>\n",
       "      <td>0.147334</td>\n",
       "      <td>0.623601</td>\n",
       "      <td>0.114920</td>\n",
       "    </tr>\n",
       "    <tr>\n",
       "      <th>2</th>\n",
       "      <td>0.128321</td>\n",
       "      <td>0.778908</td>\n",
       "      <td>0.352413</td>\n",
       "      <td>0.714555</td>\n",
       "      <td>0.339263</td>\n",
       "    </tr>\n",
       "    <tr>\n",
       "      <th>3</th>\n",
       "      <td>0.263381</td>\n",
       "      <td>0.849529</td>\n",
       "      <td>0.362151</td>\n",
       "      <td>0.390156</td>\n",
       "      <td>0.361220</td>\n",
       "    </tr>\n",
       "    <tr>\n",
       "      <th>4</th>\n",
       "      <td>0.960950</td>\n",
       "      <td>0.265285</td>\n",
       "      <td>0.015323</td>\n",
       "      <td>0.834424</td>\n",
       "      <td>0.073846</td>\n",
       "    </tr>\n",
       "  </tbody>\n",
       "</table>\n",
       "</div>"
      ],
      "text/plain": [
       "          0         1         2         3         4\n",
       "0  0.267966  0.343110  0.719370  0.919940  0.927085\n",
       "1  0.258618  0.237000  0.147334  0.623601  0.114920\n",
       "2  0.128321  0.778908  0.352413  0.714555  0.339263\n",
       "3  0.263381  0.849529  0.362151  0.390156  0.361220\n",
       "4  0.960950  0.265285  0.015323  0.834424  0.073846"
      ]
     },
     "execution_count": 45,
     "metadata": {},
     "output_type": "execute_result"
    }
   ],
   "source": [
    "newdf.head()"
   ]
  },
  {
   "cell_type": "code",
   "execution_count": 47,
   "id": "8f7e32d5-dbdb-413a-a8c1-bbf8832efd34",
   "metadata": {},
   "outputs": [
    {
     "data": {
      "text/plain": [
       "pandas.core.frame.DataFrame"
      ]
     },
     "execution_count": 47,
     "metadata": {},
     "output_type": "execute_result"
    }
   ],
   "source": [
    "type(newdf)"
   ]
  },
  {
   "cell_type": "code",
   "execution_count": 49,
   "id": "fc67d7bd-c5fc-4ea1-86f8-57c9e37a75b2",
   "metadata": {},
   "outputs": [
    {
     "data": {
      "text/html": [
       "<div>\n",
       "<style scoped>\n",
       "    .dataframe tbody tr th:only-of-type {\n",
       "        vertical-align: middle;\n",
       "    }\n",
       "\n",
       "    .dataframe tbody tr th {\n",
       "        vertical-align: top;\n",
       "    }\n",
       "\n",
       "    .dataframe thead th {\n",
       "        text-align: right;\n",
       "    }\n",
       "</style>\n",
       "<table border=\"1\" class=\"dataframe\">\n",
       "  <thead>\n",
       "    <tr style=\"text-align: right;\">\n",
       "      <th></th>\n",
       "      <th>0</th>\n",
       "      <th>1</th>\n",
       "      <th>2</th>\n",
       "      <th>3</th>\n",
       "      <th>4</th>\n",
       "    </tr>\n",
       "  </thead>\n",
       "  <tbody>\n",
       "    <tr>\n",
       "      <th>count</th>\n",
       "      <td>334.000000</td>\n",
       "      <td>334.000000</td>\n",
       "      <td>334.000000</td>\n",
       "      <td>334.000000</td>\n",
       "      <td>334.000000</td>\n",
       "    </tr>\n",
       "    <tr>\n",
       "      <th>mean</th>\n",
       "      <td>0.517466</td>\n",
       "      <td>0.479567</td>\n",
       "      <td>0.485397</td>\n",
       "      <td>0.522750</td>\n",
       "      <td>0.505736</td>\n",
       "    </tr>\n",
       "    <tr>\n",
       "      <th>std</th>\n",
       "      <td>0.281389</td>\n",
       "      <td>0.286849</td>\n",
       "      <td>0.291871</td>\n",
       "      <td>0.291061</td>\n",
       "      <td>0.284480</td>\n",
       "    </tr>\n",
       "    <tr>\n",
       "      <th>min</th>\n",
       "      <td>0.004002</td>\n",
       "      <td>0.005330</td>\n",
       "      <td>0.001041</td>\n",
       "      <td>0.003550</td>\n",
       "      <td>0.001571</td>\n",
       "    </tr>\n",
       "    <tr>\n",
       "      <th>25%</th>\n",
       "      <td>0.276777</td>\n",
       "      <td>0.232820</td>\n",
       "      <td>0.232651</td>\n",
       "      <td>0.287871</td>\n",
       "      <td>0.279201</td>\n",
       "    </tr>\n",
       "    <tr>\n",
       "      <th>50%</th>\n",
       "      <td>0.513535</td>\n",
       "      <td>0.481931</td>\n",
       "      <td>0.467358</td>\n",
       "      <td>0.552762</td>\n",
       "      <td>0.507271</td>\n",
       "    </tr>\n",
       "    <tr>\n",
       "      <th>75%</th>\n",
       "      <td>0.754914</td>\n",
       "      <td>0.732515</td>\n",
       "      <td>0.734214</td>\n",
       "      <td>0.776945</td>\n",
       "      <td>0.742959</td>\n",
       "    </tr>\n",
       "    <tr>\n",
       "      <th>max</th>\n",
       "      <td>0.989939</td>\n",
       "      <td>0.997984</td>\n",
       "      <td>0.999374</td>\n",
       "      <td>0.997864</td>\n",
       "      <td>0.993425</td>\n",
       "    </tr>\n",
       "  </tbody>\n",
       "</table>\n",
       "</div>"
      ],
      "text/plain": [
       "                0           1           2           3           4\n",
       "count  334.000000  334.000000  334.000000  334.000000  334.000000\n",
       "mean     0.517466    0.479567    0.485397    0.522750    0.505736\n",
       "std      0.281389    0.286849    0.291871    0.291061    0.284480\n",
       "min      0.004002    0.005330    0.001041    0.003550    0.001571\n",
       "25%      0.276777    0.232820    0.232651    0.287871    0.279201\n",
       "50%      0.513535    0.481931    0.467358    0.552762    0.507271\n",
       "75%      0.754914    0.732515    0.734214    0.776945    0.742959\n",
       "max      0.989939    0.997984    0.999374    0.997864    0.993425"
      ]
     },
     "execution_count": 49,
     "metadata": {},
     "output_type": "execute_result"
    }
   ],
   "source": [
    "newdf.describe()"
   ]
  },
  {
   "cell_type": "code",
   "execution_count": 53,
   "id": "60988c22-7a3c-460b-a069-327d342fecea",
   "metadata": {},
   "outputs": [
    {
     "data": {
      "text/plain": [
       "0    float64\n",
       "1    float64\n",
       "2    float64\n",
       "3    float64\n",
       "4    float64\n",
       "dtype: object"
      ]
     },
     "execution_count": 53,
     "metadata": {},
     "output_type": "execute_result"
    }
   ],
   "source": [
    "newdf.dtypes"
   ]
  },
  {
   "cell_type": "code",
   "execution_count": 55,
   "id": "6e659eb5-0ee0-4cf9-998f-4d63264ded45",
   "metadata": {},
   "outputs": [
    {
     "name": "stderr",
     "output_type": "stream",
     "text": [
      "C:\\Users\\Hamid\\AppData\\Local\\Temp\\ipykernel_1060\\2708645447.py:1: FutureWarning: ChainedAssignmentError: behaviour will change in pandas 3.0!\n",
      "You are setting values through chained assignment. Currently this works in certain cases, but when using Copy-on-Write (which will become the default behaviour in pandas 3.0) this will never work to update the original DataFrame or Series, because the intermediate object on which we are setting values will behave as a copy.\n",
      "A typical example is when you are setting values in a column of a DataFrame, like:\n",
      "\n",
      "df[\"col\"][row_indexer] = value\n",
      "\n",
      "Use `df.loc[row_indexer, \"col\"] = values` instead, to perform the assignment in a single step and ensure this keeps updating the original `df`.\n",
      "\n",
      "See the caveats in the documentation: https://pandas.pydata.org/pandas-docs/stable/user_guide/indexing.html#returning-a-view-versus-a-copy\n",
      "\n",
      "  newdf[0][0] = 'Abdullah'\n",
      "C:\\Users\\Hamid\\AppData\\Local\\Temp\\ipykernel_1060\\2708645447.py:1: FutureWarning: Setting an item of incompatible dtype is deprecated and will raise an error in a future version of pandas. Value 'Abdullah' has dtype incompatible with float64, please explicitly cast to a compatible dtype first.\n",
      "  newdf[0][0] = 'Abdullah'\n"
     ]
    }
   ],
   "source": [
    "newdf[0][0] = 'Abdullah'"
   ]
  },
  {
   "cell_type": "code",
   "execution_count": 57,
   "id": "494f863c-1d0f-471a-807b-738dc9d531e6",
   "metadata": {},
   "outputs": [
    {
     "data": {
      "text/plain": [
       "0     object\n",
       "1    float64\n",
       "2    float64\n",
       "3    float64\n",
       "4    float64\n",
       "dtype: object"
      ]
     },
     "execution_count": 57,
     "metadata": {},
     "output_type": "execute_result"
    }
   ],
   "source": [
    "newdf.dtypes"
   ]
  },
  {
   "cell_type": "code",
   "execution_count": 59,
   "id": "7b3d2f0d-8446-4fc0-af25-9e37a5a9c653",
   "metadata": {},
   "outputs": [
    {
     "data": {
      "text/html": [
       "<div>\n",
       "<style scoped>\n",
       "    .dataframe tbody tr th:only-of-type {\n",
       "        vertical-align: middle;\n",
       "    }\n",
       "\n",
       "    .dataframe tbody tr th {\n",
       "        vertical-align: top;\n",
       "    }\n",
       "\n",
       "    .dataframe thead th {\n",
       "        text-align: right;\n",
       "    }\n",
       "</style>\n",
       "<table border=\"1\" class=\"dataframe\">\n",
       "  <thead>\n",
       "    <tr style=\"text-align: right;\">\n",
       "      <th></th>\n",
       "      <th>0</th>\n",
       "      <th>1</th>\n",
       "      <th>2</th>\n",
       "      <th>3</th>\n",
       "      <th>4</th>\n",
       "    </tr>\n",
       "  </thead>\n",
       "  <tbody>\n",
       "    <tr>\n",
       "      <th>0</th>\n",
       "      <td>Abdullah</td>\n",
       "      <td>0.343110</td>\n",
       "      <td>0.719370</td>\n",
       "      <td>0.919940</td>\n",
       "      <td>0.927085</td>\n",
       "    </tr>\n",
       "    <tr>\n",
       "      <th>1</th>\n",
       "      <td>0.258618</td>\n",
       "      <td>0.237000</td>\n",
       "      <td>0.147334</td>\n",
       "      <td>0.623601</td>\n",
       "      <td>0.114920</td>\n",
       "    </tr>\n",
       "    <tr>\n",
       "      <th>2</th>\n",
       "      <td>0.128321</td>\n",
       "      <td>0.778908</td>\n",
       "      <td>0.352413</td>\n",
       "      <td>0.714555</td>\n",
       "      <td>0.339263</td>\n",
       "    </tr>\n",
       "    <tr>\n",
       "      <th>3</th>\n",
       "      <td>0.263381</td>\n",
       "      <td>0.849529</td>\n",
       "      <td>0.362151</td>\n",
       "      <td>0.390156</td>\n",
       "      <td>0.361220</td>\n",
       "    </tr>\n",
       "    <tr>\n",
       "      <th>4</th>\n",
       "      <td>0.96095</td>\n",
       "      <td>0.265285</td>\n",
       "      <td>0.015323</td>\n",
       "      <td>0.834424</td>\n",
       "      <td>0.073846</td>\n",
       "    </tr>\n",
       "  </tbody>\n",
       "</table>\n",
       "</div>"
      ],
      "text/plain": [
       "          0         1         2         3         4\n",
       "0  Abdullah  0.343110  0.719370  0.919940  0.927085\n",
       "1  0.258618  0.237000  0.147334  0.623601  0.114920\n",
       "2  0.128321  0.778908  0.352413  0.714555  0.339263\n",
       "3  0.263381  0.849529  0.362151  0.390156  0.361220\n",
       "4   0.96095  0.265285  0.015323  0.834424  0.073846"
      ]
     },
     "execution_count": 59,
     "metadata": {},
     "output_type": "execute_result"
    }
   ],
   "source": [
    "newdf.head()"
   ]
  },
  {
   "cell_type": "code",
   "execution_count": 61,
   "id": "b85d1c89-2142-4a77-a14f-f7a4e5b18f31",
   "metadata": {},
   "outputs": [
    {
     "data": {
      "text/plain": [
       "Index([  0,   1,   2,   3,   4,   5,   6,   7,   8,   9,\n",
       "       ...\n",
       "       324, 325, 326, 327, 328, 329, 330, 331, 332, 333],\n",
       "      dtype='int32', length=334)"
      ]
     },
     "execution_count": 61,
     "metadata": {},
     "output_type": "execute_result"
    }
   ],
   "source": [
    "newdf.index"
   ]
  },
  {
   "cell_type": "code",
   "execution_count": 63,
   "id": "634e00b3-8c79-446f-9e95-0766248cc94d",
   "metadata": {},
   "outputs": [
    {
     "data": {
      "text/plain": [
       "RangeIndex(start=0, stop=5, step=1)"
      ]
     },
     "execution_count": 63,
     "metadata": {},
     "output_type": "execute_result"
    }
   ],
   "source": [
    "newdf.columns"
   ]
  },
  {
   "cell_type": "code",
   "execution_count": 65,
   "id": "3a55c281-ad6b-4512-bf20-68ea50af4f3e",
   "metadata": {},
   "outputs": [
    {
     "data": {
      "text/plain": [
       "array([['Abdullah', 0.34311006068913075, 0.7193699027361596,\n",
       "        0.9199397156737176, 0.9270845816521146],\n",
       "       [0.2586180965275674, 0.23699986501820602, 0.14733371776311655,\n",
       "        0.6236007955748454, 0.11491980483411923],\n",
       "       [0.12832135608958772, 0.7789077734965788, 0.35241328487757106,\n",
       "        0.7145551938577127, 0.33926258773566975],\n",
       "       ...,\n",
       "       [0.3612751711209754, 0.8793083451818353, 0.6227473866721019,\n",
       "        0.7268350174769687, 0.5314626805256111],\n",
       "       [0.49836821120937647, 0.5672622628390371, 0.969078292881757,\n",
       "        0.758967216000106, 0.22256559321121083],\n",
       "       [0.4787116542978125, 0.8533759139498559, 0.04800031989253639,\n",
       "        0.6236905462713431, 0.7962102518190072]], dtype=object)"
      ]
     },
     "execution_count": 65,
     "metadata": {},
     "output_type": "execute_result"
    }
   ],
   "source": [
    "newdf.to_numpy()"
   ]
  },
  {
   "cell_type": "code",
   "execution_count": 67,
   "id": "13855a9c-cc33-4300-994a-aea0894c27ff",
   "metadata": {},
   "outputs": [],
   "source": [
    "newdf[0][0]= 0.3456558"
   ]
  },
  {
   "cell_type": "code",
   "execution_count": 71,
   "id": "fbf30d45-3458-4b3a-adf3-f8a1011f7467",
   "metadata": {},
   "outputs": [
    {
     "data": {
      "text/html": [
       "<div>\n",
       "<style scoped>\n",
       "    .dataframe tbody tr th:only-of-type {\n",
       "        vertical-align: middle;\n",
       "    }\n",
       "\n",
       "    .dataframe tbody tr th {\n",
       "        vertical-align: top;\n",
       "    }\n",
       "\n",
       "    .dataframe thead th {\n",
       "        text-align: right;\n",
       "    }\n",
       "</style>\n",
       "<table border=\"1\" class=\"dataframe\">\n",
       "  <thead>\n",
       "    <tr style=\"text-align: right;\">\n",
       "      <th></th>\n",
       "      <th>0</th>\n",
       "      <th>1</th>\n",
       "      <th>2</th>\n",
       "      <th>3</th>\n",
       "      <th>4</th>\n",
       "    </tr>\n",
       "  </thead>\n",
       "  <tbody>\n",
       "    <tr>\n",
       "      <th>0</th>\n",
       "      <td>0.345656</td>\n",
       "      <td>0.343110</td>\n",
       "      <td>0.719370</td>\n",
       "      <td>0.919940</td>\n",
       "      <td>0.927085</td>\n",
       "    </tr>\n",
       "    <tr>\n",
       "      <th>1</th>\n",
       "      <td>0.258618</td>\n",
       "      <td>0.237000</td>\n",
       "      <td>0.147334</td>\n",
       "      <td>0.623601</td>\n",
       "      <td>0.114920</td>\n",
       "    </tr>\n",
       "    <tr>\n",
       "      <th>2</th>\n",
       "      <td>0.128321</td>\n",
       "      <td>0.778908</td>\n",
       "      <td>0.352413</td>\n",
       "      <td>0.714555</td>\n",
       "      <td>0.339263</td>\n",
       "    </tr>\n",
       "    <tr>\n",
       "      <th>3</th>\n",
       "      <td>0.263381</td>\n",
       "      <td>0.849529</td>\n",
       "      <td>0.362151</td>\n",
       "      <td>0.390156</td>\n",
       "      <td>0.361220</td>\n",
       "    </tr>\n",
       "    <tr>\n",
       "      <th>4</th>\n",
       "      <td>0.96095</td>\n",
       "      <td>0.265285</td>\n",
       "      <td>0.015323</td>\n",
       "      <td>0.834424</td>\n",
       "      <td>0.073846</td>\n",
       "    </tr>\n",
       "  </tbody>\n",
       "</table>\n",
       "</div>"
      ],
      "text/plain": [
       "          0         1         2         3         4\n",
       "0  0.345656  0.343110  0.719370  0.919940  0.927085\n",
       "1  0.258618  0.237000  0.147334  0.623601  0.114920\n",
       "2  0.128321  0.778908  0.352413  0.714555  0.339263\n",
       "3  0.263381  0.849529  0.362151  0.390156  0.361220\n",
       "4   0.96095  0.265285  0.015323  0.834424  0.073846"
      ]
     },
     "execution_count": 71,
     "metadata": {},
     "output_type": "execute_result"
    }
   ],
   "source": [
    "newdf.head()"
   ]
  },
  {
   "cell_type": "code",
   "execution_count": 73,
   "id": "581ddc4c-df0f-4105-8d9c-b92a0fc479f0",
   "metadata": {},
   "outputs": [
    {
     "data": {
      "text/plain": [
       "array([[0.3456558, 0.34311006068913075, 0.7193699027361596,\n",
       "        0.9199397156737176, 0.9270845816521146],\n",
       "       [0.2586180965275674, 0.23699986501820602, 0.14733371776311655,\n",
       "        0.6236007955748454, 0.11491980483411923],\n",
       "       [0.12832135608958772, 0.7789077734965788, 0.35241328487757106,\n",
       "        0.7145551938577127, 0.33926258773566975],\n",
       "       ...,\n",
       "       [0.3612751711209754, 0.8793083451818353, 0.6227473866721019,\n",
       "        0.7268350174769687, 0.5314626805256111],\n",
       "       [0.49836821120937647, 0.5672622628390371, 0.969078292881757,\n",
       "        0.758967216000106, 0.22256559321121083],\n",
       "       [0.4787116542978125, 0.8533759139498559, 0.04800031989253639,\n",
       "        0.6236905462713431, 0.7962102518190072]], dtype=object)"
      ]
     },
     "execution_count": 73,
     "metadata": {},
     "output_type": "execute_result"
    }
   ],
   "source": [
    "newdf.to_numpy()"
   ]
  },
  {
   "cell_type": "code",
   "execution_count": 75,
   "id": "1e382d3c-b63b-401c-9850-aaca866258aa",
   "metadata": {},
   "outputs": [
    {
     "data": {
      "text/html": [
       "<div>\n",
       "<style scoped>\n",
       "    .dataframe tbody tr th:only-of-type {\n",
       "        vertical-align: middle;\n",
       "    }\n",
       "\n",
       "    .dataframe tbody tr th {\n",
       "        vertical-align: top;\n",
       "    }\n",
       "\n",
       "    .dataframe thead th {\n",
       "        text-align: right;\n",
       "    }\n",
       "</style>\n",
       "<table border=\"1\" class=\"dataframe\">\n",
       "  <thead>\n",
       "    <tr style=\"text-align: right;\">\n",
       "      <th></th>\n",
       "      <th>0</th>\n",
       "      <th>1</th>\n",
       "      <th>2</th>\n",
       "      <th>3</th>\n",
       "      <th>4</th>\n",
       "      <th>5</th>\n",
       "      <th>6</th>\n",
       "      <th>7</th>\n",
       "      <th>8</th>\n",
       "      <th>9</th>\n",
       "      <th>...</th>\n",
       "      <th>324</th>\n",
       "      <th>325</th>\n",
       "      <th>326</th>\n",
       "      <th>327</th>\n",
       "      <th>328</th>\n",
       "      <th>329</th>\n",
       "      <th>330</th>\n",
       "      <th>331</th>\n",
       "      <th>332</th>\n",
       "      <th>333</th>\n",
       "    </tr>\n",
       "  </thead>\n",
       "  <tbody>\n",
       "    <tr>\n",
       "      <th>0</th>\n",
       "      <td>0.345656</td>\n",
       "      <td>0.258618</td>\n",
       "      <td>0.128321</td>\n",
       "      <td>0.263381</td>\n",
       "      <td>0.96095</td>\n",
       "      <td>0.230193</td>\n",
       "      <td>0.812271</td>\n",
       "      <td>0.072716</td>\n",
       "      <td>0.524205</td>\n",
       "      <td>0.665063</td>\n",
       "      <td>...</td>\n",
       "      <td>0.109552</td>\n",
       "      <td>0.848806</td>\n",
       "      <td>0.905788</td>\n",
       "      <td>0.651741</td>\n",
       "      <td>0.978794</td>\n",
       "      <td>0.318689</td>\n",
       "      <td>0.912209</td>\n",
       "      <td>0.361275</td>\n",
       "      <td>0.498368</td>\n",
       "      <td>0.478712</td>\n",
       "    </tr>\n",
       "    <tr>\n",
       "      <th>1</th>\n",
       "      <td>0.34311</td>\n",
       "      <td>0.237</td>\n",
       "      <td>0.778908</td>\n",
       "      <td>0.849529</td>\n",
       "      <td>0.265285</td>\n",
       "      <td>0.948312</td>\n",
       "      <td>0.021328</td>\n",
       "      <td>0.777863</td>\n",
       "      <td>0.231426</td>\n",
       "      <td>0.789668</td>\n",
       "      <td>...</td>\n",
       "      <td>0.070822</td>\n",
       "      <td>0.032042</td>\n",
       "      <td>0.602465</td>\n",
       "      <td>0.395677</td>\n",
       "      <td>0.163582</td>\n",
       "      <td>0.585936</td>\n",
       "      <td>0.528468</td>\n",
       "      <td>0.879308</td>\n",
       "      <td>0.567262</td>\n",
       "      <td>0.853376</td>\n",
       "    </tr>\n",
       "    <tr>\n",
       "      <th>2</th>\n",
       "      <td>0.71937</td>\n",
       "      <td>0.147334</td>\n",
       "      <td>0.352413</td>\n",
       "      <td>0.362151</td>\n",
       "      <td>0.015323</td>\n",
       "      <td>0.581074</td>\n",
       "      <td>0.482516</td>\n",
       "      <td>0.363704</td>\n",
       "      <td>0.14972</td>\n",
       "      <td>0.459031</td>\n",
       "      <td>...</td>\n",
       "      <td>0.85984</td>\n",
       "      <td>0.46928</td>\n",
       "      <td>0.786293</td>\n",
       "      <td>0.530458</td>\n",
       "      <td>0.382046</td>\n",
       "      <td>0.905456</td>\n",
       "      <td>0.932127</td>\n",
       "      <td>0.622747</td>\n",
       "      <td>0.969078</td>\n",
       "      <td>0.048</td>\n",
       "    </tr>\n",
       "    <tr>\n",
       "      <th>3</th>\n",
       "      <td>0.91994</td>\n",
       "      <td>0.623601</td>\n",
       "      <td>0.714555</td>\n",
       "      <td>0.390156</td>\n",
       "      <td>0.834424</td>\n",
       "      <td>0.754651</td>\n",
       "      <td>0.208224</td>\n",
       "      <td>0.565781</td>\n",
       "      <td>0.624426</td>\n",
       "      <td>0.908817</td>\n",
       "      <td>...</td>\n",
       "      <td>0.643424</td>\n",
       "      <td>0.912335</td>\n",
       "      <td>0.014618</td>\n",
       "      <td>0.586008</td>\n",
       "      <td>0.468773</td>\n",
       "      <td>0.796074</td>\n",
       "      <td>0.006777</td>\n",
       "      <td>0.726835</td>\n",
       "      <td>0.758967</td>\n",
       "      <td>0.623691</td>\n",
       "    </tr>\n",
       "    <tr>\n",
       "      <th>4</th>\n",
       "      <td>0.927085</td>\n",
       "      <td>0.11492</td>\n",
       "      <td>0.339263</td>\n",
       "      <td>0.36122</td>\n",
       "      <td>0.073846</td>\n",
       "      <td>0.418283</td>\n",
       "      <td>0.748759</td>\n",
       "      <td>0.721444</td>\n",
       "      <td>0.00235</td>\n",
       "      <td>0.98465</td>\n",
       "      <td>...</td>\n",
       "      <td>0.001977</td>\n",
       "      <td>0.095521</td>\n",
       "      <td>0.670157</td>\n",
       "      <td>0.429016</td>\n",
       "      <td>0.159298</td>\n",
       "      <td>0.394517</td>\n",
       "      <td>0.27842</td>\n",
       "      <td>0.531463</td>\n",
       "      <td>0.222566</td>\n",
       "      <td>0.79621</td>\n",
       "    </tr>\n",
       "  </tbody>\n",
       "</table>\n",
       "<p>5 rows × 334 columns</p>\n",
       "</div>"
      ],
      "text/plain": [
       "        0         1         2         3         4         5         6    \\\n",
       "0  0.345656  0.258618  0.128321  0.263381   0.96095  0.230193  0.812271   \n",
       "1   0.34311     0.237  0.778908  0.849529  0.265285  0.948312  0.021328   \n",
       "2   0.71937  0.147334  0.352413  0.362151  0.015323  0.581074  0.482516   \n",
       "3   0.91994  0.623601  0.714555  0.390156  0.834424  0.754651  0.208224   \n",
       "4  0.927085   0.11492  0.339263   0.36122  0.073846  0.418283  0.748759   \n",
       "\n",
       "        7         8         9    ...       324       325       326       327  \\\n",
       "0  0.072716  0.524205  0.665063  ...  0.109552  0.848806  0.905788  0.651741   \n",
       "1  0.777863  0.231426  0.789668  ...  0.070822  0.032042  0.602465  0.395677   \n",
       "2  0.363704   0.14972  0.459031  ...   0.85984   0.46928  0.786293  0.530458   \n",
       "3  0.565781  0.624426  0.908817  ...  0.643424  0.912335  0.014618  0.586008   \n",
       "4  0.721444   0.00235   0.98465  ...  0.001977  0.095521  0.670157  0.429016   \n",
       "\n",
       "        328       329       330       331       332       333  \n",
       "0  0.978794  0.318689  0.912209  0.361275  0.498368  0.478712  \n",
       "1  0.163582  0.585936  0.528468  0.879308  0.567262  0.853376  \n",
       "2  0.382046  0.905456  0.932127  0.622747  0.969078     0.048  \n",
       "3  0.468773  0.796074  0.006777  0.726835  0.758967  0.623691  \n",
       "4  0.159298  0.394517   0.27842  0.531463  0.222566   0.79621  \n",
       "\n",
       "[5 rows x 334 columns]"
      ]
     },
     "execution_count": 75,
     "metadata": {},
     "output_type": "execute_result"
    }
   ],
   "source": [
    "# a funtion for taking transpose of newdf  \n",
    "newdf.T"
   ]
  },
  {
   "cell_type": "code",
   "execution_count": 77,
   "id": "cde8f760-12a7-4d3d-94ae-98a3b002d8e3",
   "metadata": {},
   "outputs": [
    {
     "data": {
      "text/html": [
       "<div>\n",
       "<style scoped>\n",
       "    .dataframe tbody tr th:only-of-type {\n",
       "        vertical-align: middle;\n",
       "    }\n",
       "\n",
       "    .dataframe tbody tr th {\n",
       "        vertical-align: top;\n",
       "    }\n",
       "\n",
       "    .dataframe thead th {\n",
       "        text-align: right;\n",
       "    }\n",
       "</style>\n",
       "<table border=\"1\" class=\"dataframe\">\n",
       "  <thead>\n",
       "    <tr style=\"text-align: right;\">\n",
       "      <th></th>\n",
       "      <th>0</th>\n",
       "      <th>1</th>\n",
       "      <th>2</th>\n",
       "      <th>3</th>\n",
       "      <th>4</th>\n",
       "    </tr>\n",
       "  </thead>\n",
       "  <tbody>\n",
       "    <tr>\n",
       "      <th>0</th>\n",
       "      <td>0.345656</td>\n",
       "      <td>0.343110</td>\n",
       "      <td>0.719370</td>\n",
       "      <td>0.919940</td>\n",
       "      <td>0.927085</td>\n",
       "    </tr>\n",
       "    <tr>\n",
       "      <th>1</th>\n",
       "      <td>0.258618</td>\n",
       "      <td>0.237000</td>\n",
       "      <td>0.147334</td>\n",
       "      <td>0.623601</td>\n",
       "      <td>0.114920</td>\n",
       "    </tr>\n",
       "    <tr>\n",
       "      <th>2</th>\n",
       "      <td>0.128321</td>\n",
       "      <td>0.778908</td>\n",
       "      <td>0.352413</td>\n",
       "      <td>0.714555</td>\n",
       "      <td>0.339263</td>\n",
       "    </tr>\n",
       "    <tr>\n",
       "      <th>3</th>\n",
       "      <td>0.263381</td>\n",
       "      <td>0.849529</td>\n",
       "      <td>0.362151</td>\n",
       "      <td>0.390156</td>\n",
       "      <td>0.361220</td>\n",
       "    </tr>\n",
       "    <tr>\n",
       "      <th>4</th>\n",
       "      <td>0.96095</td>\n",
       "      <td>0.265285</td>\n",
       "      <td>0.015323</td>\n",
       "      <td>0.834424</td>\n",
       "      <td>0.073846</td>\n",
       "    </tr>\n",
       "  </tbody>\n",
       "</table>\n",
       "</div>"
      ],
      "text/plain": [
       "          0         1         2         3         4\n",
       "0  0.345656  0.343110  0.719370  0.919940  0.927085\n",
       "1  0.258618  0.237000  0.147334  0.623601  0.114920\n",
       "2  0.128321  0.778908  0.352413  0.714555  0.339263\n",
       "3  0.263381  0.849529  0.362151  0.390156  0.361220\n",
       "4   0.96095  0.265285  0.015323  0.834424  0.073846"
      ]
     },
     "execution_count": 77,
     "metadata": {},
     "output_type": "execute_result"
    }
   ],
   "source": [
    "newdf.head()"
   ]
  },
  {
   "cell_type": "code",
   "execution_count": 81,
   "id": "40349adc-f09b-4c8d-a69f-2c7a3948958e",
   "metadata": {},
   "outputs": [
    {
     "data": {
      "text/html": [
       "<div>\n",
       "<style scoped>\n",
       "    .dataframe tbody tr th:only-of-type {\n",
       "        vertical-align: middle;\n",
       "    }\n",
       "\n",
       "    .dataframe tbody tr th {\n",
       "        vertical-align: top;\n",
       "    }\n",
       "\n",
       "    .dataframe thead th {\n",
       "        text-align: right;\n",
       "    }\n",
       "</style>\n",
       "<table border=\"1\" class=\"dataframe\">\n",
       "  <thead>\n",
       "    <tr style=\"text-align: right;\">\n",
       "      <th></th>\n",
       "      <th>0</th>\n",
       "      <th>1</th>\n",
       "      <th>2</th>\n",
       "      <th>3</th>\n",
       "      <th>4</th>\n",
       "    </tr>\n",
       "  </thead>\n",
       "  <tbody>\n",
       "    <tr>\n",
       "      <th>333</th>\n",
       "      <td>0.478712</td>\n",
       "      <td>0.853376</td>\n",
       "      <td>0.048000</td>\n",
       "      <td>0.623691</td>\n",
       "      <td>0.796210</td>\n",
       "    </tr>\n",
       "    <tr>\n",
       "      <th>332</th>\n",
       "      <td>0.498368</td>\n",
       "      <td>0.567262</td>\n",
       "      <td>0.969078</td>\n",
       "      <td>0.758967</td>\n",
       "      <td>0.222566</td>\n",
       "    </tr>\n",
       "    <tr>\n",
       "      <th>331</th>\n",
       "      <td>0.361275</td>\n",
       "      <td>0.879308</td>\n",
       "      <td>0.622747</td>\n",
       "      <td>0.726835</td>\n",
       "      <td>0.531463</td>\n",
       "    </tr>\n",
       "    <tr>\n",
       "      <th>330</th>\n",
       "      <td>0.912209</td>\n",
       "      <td>0.528468</td>\n",
       "      <td>0.932127</td>\n",
       "      <td>0.006777</td>\n",
       "      <td>0.278420</td>\n",
       "    </tr>\n",
       "    <tr>\n",
       "      <th>329</th>\n",
       "      <td>0.318689</td>\n",
       "      <td>0.585936</td>\n",
       "      <td>0.905456</td>\n",
       "      <td>0.796074</td>\n",
       "      <td>0.394517</td>\n",
       "    </tr>\n",
       "    <tr>\n",
       "      <th>...</th>\n",
       "      <td>...</td>\n",
       "      <td>...</td>\n",
       "      <td>...</td>\n",
       "      <td>...</td>\n",
       "      <td>...</td>\n",
       "    </tr>\n",
       "    <tr>\n",
       "      <th>4</th>\n",
       "      <td>0.96095</td>\n",
       "      <td>0.265285</td>\n",
       "      <td>0.015323</td>\n",
       "      <td>0.834424</td>\n",
       "      <td>0.073846</td>\n",
       "    </tr>\n",
       "    <tr>\n",
       "      <th>3</th>\n",
       "      <td>0.263381</td>\n",
       "      <td>0.849529</td>\n",
       "      <td>0.362151</td>\n",
       "      <td>0.390156</td>\n",
       "      <td>0.361220</td>\n",
       "    </tr>\n",
       "    <tr>\n",
       "      <th>2</th>\n",
       "      <td>0.128321</td>\n",
       "      <td>0.778908</td>\n",
       "      <td>0.352413</td>\n",
       "      <td>0.714555</td>\n",
       "      <td>0.339263</td>\n",
       "    </tr>\n",
       "    <tr>\n",
       "      <th>1</th>\n",
       "      <td>0.258618</td>\n",
       "      <td>0.237000</td>\n",
       "      <td>0.147334</td>\n",
       "      <td>0.623601</td>\n",
       "      <td>0.114920</td>\n",
       "    </tr>\n",
       "    <tr>\n",
       "      <th>0</th>\n",
       "      <td>0.345656</td>\n",
       "      <td>0.343110</td>\n",
       "      <td>0.719370</td>\n",
       "      <td>0.919940</td>\n",
       "      <td>0.927085</td>\n",
       "    </tr>\n",
       "  </tbody>\n",
       "</table>\n",
       "<p>334 rows × 5 columns</p>\n",
       "</div>"
      ],
      "text/plain": [
       "            0         1         2         3         4\n",
       "333  0.478712  0.853376  0.048000  0.623691  0.796210\n",
       "332  0.498368  0.567262  0.969078  0.758967  0.222566\n",
       "331  0.361275  0.879308  0.622747  0.726835  0.531463\n",
       "330  0.912209  0.528468  0.932127  0.006777  0.278420\n",
       "329  0.318689  0.585936  0.905456  0.796074  0.394517\n",
       "..        ...       ...       ...       ...       ...\n",
       "4     0.96095  0.265285  0.015323  0.834424  0.073846\n",
       "3    0.263381  0.849529  0.362151  0.390156  0.361220\n",
       "2    0.128321  0.778908  0.352413  0.714555  0.339263\n",
       "1    0.258618  0.237000  0.147334  0.623601  0.114920\n",
       "0    0.345656  0.343110  0.719370  0.919940  0.927085\n",
       "\n",
       "[334 rows x 5 columns]"
      ]
     },
     "execution_count": 81,
     "metadata": {},
     "output_type": "execute_result"
    }
   ],
   "source": [
    "# axis=0 means row, and axis=1 means column\n",
    "newdf.sort_index(axis=0, ascending=False)"
   ]
  },
  {
   "cell_type": "code",
   "execution_count": 83,
   "id": "14d5aff4-8e6c-4f67-9f3c-0a1808cf3675",
   "metadata": {},
   "outputs": [
    {
     "data": {
      "text/html": [
       "<div>\n",
       "<style scoped>\n",
       "    .dataframe tbody tr th:only-of-type {\n",
       "        vertical-align: middle;\n",
       "    }\n",
       "\n",
       "    .dataframe tbody tr th {\n",
       "        vertical-align: top;\n",
       "    }\n",
       "\n",
       "    .dataframe thead th {\n",
       "        text-align: right;\n",
       "    }\n",
       "</style>\n",
       "<table border=\"1\" class=\"dataframe\">\n",
       "  <thead>\n",
       "    <tr style=\"text-align: right;\">\n",
       "      <th></th>\n",
       "      <th>0</th>\n",
       "      <th>1</th>\n",
       "      <th>2</th>\n",
       "      <th>3</th>\n",
       "      <th>4</th>\n",
       "    </tr>\n",
       "  </thead>\n",
       "  <tbody>\n",
       "    <tr>\n",
       "      <th>0</th>\n",
       "      <td>0.345656</td>\n",
       "      <td>0.343110</td>\n",
       "      <td>0.719370</td>\n",
       "      <td>0.919940</td>\n",
       "      <td>0.927085</td>\n",
       "    </tr>\n",
       "    <tr>\n",
       "      <th>1</th>\n",
       "      <td>0.258618</td>\n",
       "      <td>0.237000</td>\n",
       "      <td>0.147334</td>\n",
       "      <td>0.623601</td>\n",
       "      <td>0.114920</td>\n",
       "    </tr>\n",
       "    <tr>\n",
       "      <th>2</th>\n",
       "      <td>0.128321</td>\n",
       "      <td>0.778908</td>\n",
       "      <td>0.352413</td>\n",
       "      <td>0.714555</td>\n",
       "      <td>0.339263</td>\n",
       "    </tr>\n",
       "    <tr>\n",
       "      <th>3</th>\n",
       "      <td>0.263381</td>\n",
       "      <td>0.849529</td>\n",
       "      <td>0.362151</td>\n",
       "      <td>0.390156</td>\n",
       "      <td>0.361220</td>\n",
       "    </tr>\n",
       "    <tr>\n",
       "      <th>4</th>\n",
       "      <td>0.96095</td>\n",
       "      <td>0.265285</td>\n",
       "      <td>0.015323</td>\n",
       "      <td>0.834424</td>\n",
       "      <td>0.073846</td>\n",
       "    </tr>\n",
       "  </tbody>\n",
       "</table>\n",
       "</div>"
      ],
      "text/plain": [
       "          0         1         2         3         4\n",
       "0  0.345656  0.343110  0.719370  0.919940  0.927085\n",
       "1  0.258618  0.237000  0.147334  0.623601  0.114920\n",
       "2  0.128321  0.778908  0.352413  0.714555  0.339263\n",
       "3  0.263381  0.849529  0.362151  0.390156  0.361220\n",
       "4   0.96095  0.265285  0.015323  0.834424  0.073846"
      ]
     },
     "execution_count": 83,
     "metadata": {},
     "output_type": "execute_result"
    }
   ],
   "source": [
    "newdf.head()"
   ]
  },
  {
   "cell_type": "code",
   "execution_count": 85,
   "id": "12e3f9bb-2347-4ebf-b438-27f147f29d5f",
   "metadata": {},
   "outputs": [
    {
     "data": {
      "text/plain": [
       "0      0.345656\n",
       "1      0.258618\n",
       "2      0.128321\n",
       "3      0.263381\n",
       "4       0.96095\n",
       "         ...   \n",
       "329    0.318689\n",
       "330    0.912209\n",
       "331    0.361275\n",
       "332    0.498368\n",
       "333    0.478712\n",
       "Name: 0, Length: 334, dtype: object"
      ]
     },
     "execution_count": 85,
     "metadata": {},
     "output_type": "execute_result"
    }
   ],
   "source": [
    "newdf[0]"
   ]
  },
  {
   "cell_type": "code",
   "execution_count": 87,
   "id": "c204d5c9-754a-4a74-96a8-e45c35d16e3f",
   "metadata": {},
   "outputs": [
    {
     "data": {
      "text/plain": [
       "pandas.core.series.Series"
      ]
     },
     "execution_count": 87,
     "metadata": {},
     "output_type": "execute_result"
    }
   ],
   "source": [
    "type(newdf[0])"
   ]
  },
  {
   "cell_type": "code",
   "execution_count": 89,
   "id": "7b5cc84b-d8a9-4665-ab76-c30b1102fddb",
   "metadata": {},
   "outputs": [],
   "source": [
    "# it's not making a copy, newdf2 is a view for newdf, that;s why any changing in newdf2 will effect newdf also\n",
    "newdf2 = newdf"
   ]
  },
  {
   "cell_type": "code",
   "execution_count": 91,
   "id": "f364a5cc-97bb-4fd1-b5ae-cbd34ea416a4",
   "metadata": {},
   "outputs": [],
   "source": [
    "newdf2[0][0]= 9524"
   ]
  },
  {
   "cell_type": "code",
   "execution_count": 93,
   "id": "bb2d3b6f-5ae6-4088-9231-85113e956e66",
   "metadata": {},
   "outputs": [
    {
     "data": {
      "text/html": [
       "<div>\n",
       "<style scoped>\n",
       "    .dataframe tbody tr th:only-of-type {\n",
       "        vertical-align: middle;\n",
       "    }\n",
       "\n",
       "    .dataframe tbody tr th {\n",
       "        vertical-align: top;\n",
       "    }\n",
       "\n",
       "    .dataframe thead th {\n",
       "        text-align: right;\n",
       "    }\n",
       "</style>\n",
       "<table border=\"1\" class=\"dataframe\">\n",
       "  <thead>\n",
       "    <tr style=\"text-align: right;\">\n",
       "      <th></th>\n",
       "      <th>0</th>\n",
       "      <th>1</th>\n",
       "      <th>2</th>\n",
       "      <th>3</th>\n",
       "      <th>4</th>\n",
       "    </tr>\n",
       "  </thead>\n",
       "  <tbody>\n",
       "    <tr>\n",
       "      <th>0</th>\n",
       "      <td>9524</td>\n",
       "      <td>0.34311</td>\n",
       "      <td>0.719370</td>\n",
       "      <td>0.919940</td>\n",
       "      <td>0.927085</td>\n",
       "    </tr>\n",
       "    <tr>\n",
       "      <th>1</th>\n",
       "      <td>0.258618</td>\n",
       "      <td>0.23700</td>\n",
       "      <td>0.147334</td>\n",
       "      <td>0.623601</td>\n",
       "      <td>0.114920</td>\n",
       "    </tr>\n",
       "  </tbody>\n",
       "</table>\n",
       "</div>"
      ],
      "text/plain": [
       "          0        1         2         3         4\n",
       "0      9524  0.34311  0.719370  0.919940  0.927085\n",
       "1  0.258618  0.23700  0.147334  0.623601  0.114920"
      ]
     },
     "execution_count": 93,
     "metadata": {},
     "output_type": "execute_result"
    }
   ],
   "source": [
    "newdf.head(2)"
   ]
  },
  {
   "cell_type": "code",
   "execution_count": 97,
   "id": "3883bd17-3836-4502-8af4-9e903987e342",
   "metadata": {},
   "outputs": [],
   "source": [
    "# to make a copy !!!\n",
    "newdf2 = newdf.copy()"
   ]
  },
  {
   "cell_type": "code",
   "execution_count": 99,
   "id": "32a8af72-b7c4-440c-92b6-145979aeec5b",
   "metadata": {},
   "outputs": [
    {
     "name": "stderr",
     "output_type": "stream",
     "text": [
      "C:\\Users\\Hamid\\AppData\\Local\\Temp\\ipykernel_1060\\880882527.py:1: FutureWarning: ChainedAssignmentError: behaviour will change in pandas 3.0!\n",
      "You are setting values through chained assignment. Currently this works in certain cases, but when using Copy-on-Write (which will become the default behaviour in pandas 3.0) this will never work to update the original DataFrame or Series, because the intermediate object on which we are setting values will behave as a copy.\n",
      "A typical example is when you are setting values in a column of a DataFrame, like:\n",
      "\n",
      "df[\"col\"][row_indexer] = value\n",
      "\n",
      "Use `df.loc[row_indexer, \"col\"] = values` instead, to perform the assignment in a single step and ensure this keeps updating the original `df`.\n",
      "\n",
      "See the caveats in the documentation: https://pandas.pydata.org/pandas-docs/stable/user_guide/indexing.html#returning-a-view-versus-a-copy\n",
      "\n",
      "  newdf2[0][0]= 145648\n",
      "C:\\Users\\Hamid\\AppData\\Local\\Temp\\ipykernel_1060\\880882527.py:1: SettingWithCopyWarning: \n",
      "A value is trying to be set on a copy of a slice from a DataFrame\n",
      "\n",
      "See the caveats in the documentation: https://pandas.pydata.org/pandas-docs/stable/user_guide/indexing.html#returning-a-view-versus-a-copy\n",
      "  newdf2[0][0]= 145648\n"
     ]
    }
   ],
   "source": [
    "newdf2[0][0]= 145648"
   ]
  },
  {
   "cell_type": "code",
   "execution_count": 101,
   "id": "5b732174-3922-401f-8537-7fd02b757a22",
   "metadata": {},
   "outputs": [
    {
     "data": {
      "text/html": [
       "<div>\n",
       "<style scoped>\n",
       "    .dataframe tbody tr th:only-of-type {\n",
       "        vertical-align: middle;\n",
       "    }\n",
       "\n",
       "    .dataframe tbody tr th {\n",
       "        vertical-align: top;\n",
       "    }\n",
       "\n",
       "    .dataframe thead th {\n",
       "        text-align: right;\n",
       "    }\n",
       "</style>\n",
       "<table border=\"1\" class=\"dataframe\">\n",
       "  <thead>\n",
       "    <tr style=\"text-align: right;\">\n",
       "      <th></th>\n",
       "      <th>0</th>\n",
       "      <th>1</th>\n",
       "      <th>2</th>\n",
       "      <th>3</th>\n",
       "      <th>4</th>\n",
       "    </tr>\n",
       "  </thead>\n",
       "  <tbody>\n",
       "    <tr>\n",
       "      <th>0</th>\n",
       "      <td>9524</td>\n",
       "      <td>0.34311</td>\n",
       "      <td>0.719370</td>\n",
       "      <td>0.919940</td>\n",
       "      <td>0.927085</td>\n",
       "    </tr>\n",
       "    <tr>\n",
       "      <th>1</th>\n",
       "      <td>0.258618</td>\n",
       "      <td>0.23700</td>\n",
       "      <td>0.147334</td>\n",
       "      <td>0.623601</td>\n",
       "      <td>0.114920</td>\n",
       "    </tr>\n",
       "  </tbody>\n",
       "</table>\n",
       "</div>"
      ],
      "text/plain": [
       "          0        1         2         3         4\n",
       "0      9524  0.34311  0.719370  0.919940  0.927085\n",
       "1  0.258618  0.23700  0.147334  0.623601  0.114920"
      ]
     },
     "execution_count": 101,
     "metadata": {},
     "output_type": "execute_result"
    }
   ],
   "source": [
    "newdf.head(2)"
   ]
  },
  {
   "cell_type": "code",
   "execution_count": 103,
   "id": "56455a67-2ecf-42e9-a2a3-eaf1899e5924",
   "metadata": {},
   "outputs": [
    {
     "data": {
      "text/html": [
       "<div>\n",
       "<style scoped>\n",
       "    .dataframe tbody tr th:only-of-type {\n",
       "        vertical-align: middle;\n",
       "    }\n",
       "\n",
       "    .dataframe tbody tr th {\n",
       "        vertical-align: top;\n",
       "    }\n",
       "\n",
       "    .dataframe thead th {\n",
       "        text-align: right;\n",
       "    }\n",
       "</style>\n",
       "<table border=\"1\" class=\"dataframe\">\n",
       "  <thead>\n",
       "    <tr style=\"text-align: right;\">\n",
       "      <th></th>\n",
       "      <th>0</th>\n",
       "      <th>1</th>\n",
       "      <th>2</th>\n",
       "      <th>3</th>\n",
       "      <th>4</th>\n",
       "    </tr>\n",
       "  </thead>\n",
       "  <tbody>\n",
       "    <tr>\n",
       "      <th>0</th>\n",
       "      <td>145648</td>\n",
       "      <td>0.34311</td>\n",
       "      <td>0.719370</td>\n",
       "      <td>0.919940</td>\n",
       "      <td>0.927085</td>\n",
       "    </tr>\n",
       "    <tr>\n",
       "      <th>1</th>\n",
       "      <td>0.258618</td>\n",
       "      <td>0.23700</td>\n",
       "      <td>0.147334</td>\n",
       "      <td>0.623601</td>\n",
       "      <td>0.114920</td>\n",
       "    </tr>\n",
       "  </tbody>\n",
       "</table>\n",
       "</div>"
      ],
      "text/plain": [
       "          0        1         2         3         4\n",
       "0    145648  0.34311  0.719370  0.919940  0.927085\n",
       "1  0.258618  0.23700  0.147334  0.623601  0.114920"
      ]
     },
     "execution_count": 103,
     "metadata": {},
     "output_type": "execute_result"
    }
   ],
   "source": [
    "newdf2.head(2)"
   ]
  },
  {
   "cell_type": "code",
   "execution_count": 105,
   "id": "a1798c61-594a-4b7d-8a19-653fc72eba9b",
   "metadata": {},
   "outputs": [],
   "source": [
    "newdf.loc[0,0] = 654"
   ]
  },
  {
   "cell_type": "code",
   "execution_count": 109,
   "id": "4f458443-0de6-4e38-b55b-61dd1de24560",
   "metadata": {},
   "outputs": [
    {
     "data": {
      "text/html": [
       "<div>\n",
       "<style scoped>\n",
       "    .dataframe tbody tr th:only-of-type {\n",
       "        vertical-align: middle;\n",
       "    }\n",
       "\n",
       "    .dataframe tbody tr th {\n",
       "        vertical-align: top;\n",
       "    }\n",
       "\n",
       "    .dataframe thead th {\n",
       "        text-align: right;\n",
       "    }\n",
       "</style>\n",
       "<table border=\"1\" class=\"dataframe\">\n",
       "  <thead>\n",
       "    <tr style=\"text-align: right;\">\n",
       "      <th></th>\n",
       "      <th>0</th>\n",
       "      <th>1</th>\n",
       "      <th>2</th>\n",
       "      <th>3</th>\n",
       "      <th>4</th>\n",
       "    </tr>\n",
       "  </thead>\n",
       "  <tbody>\n",
       "    <tr>\n",
       "      <th>0</th>\n",
       "      <td>654</td>\n",
       "      <td>0.34311</td>\n",
       "      <td>0.719370</td>\n",
       "      <td>0.919940</td>\n",
       "      <td>0.927085</td>\n",
       "    </tr>\n",
       "    <tr>\n",
       "      <th>1</th>\n",
       "      <td>0.258618</td>\n",
       "      <td>0.23700</td>\n",
       "      <td>0.147334</td>\n",
       "      <td>0.623601</td>\n",
       "      <td>0.114920</td>\n",
       "    </tr>\n",
       "  </tbody>\n",
       "</table>\n",
       "</div>"
      ],
      "text/plain": [
       "          0        1         2         3         4\n",
       "0       654  0.34311  0.719370  0.919940  0.927085\n",
       "1  0.258618  0.23700  0.147334  0.623601  0.114920"
      ]
     },
     "execution_count": 109,
     "metadata": {},
     "output_type": "execute_result"
    }
   ],
   "source": [
    "newdf.head(2)"
   ]
  },
  {
   "cell_type": "code",
   "execution_count": 111,
   "id": "4e519958-079e-4dda-ac3e-5c1285fd3179",
   "metadata": {},
   "outputs": [],
   "source": [
    "# we can also change the values using loc function => location, and it is a good idea to change the values using this way \n",
    "newdf.loc[0, 'A'] = 564"
   ]
  },
  {
   "cell_type": "code",
   "execution_count": 113,
   "id": "0daa6969-cefb-417f-88c0-a30d7da7e40f",
   "metadata": {},
   "outputs": [
    {
     "data": {
      "text/html": [
       "<div>\n",
       "<style scoped>\n",
       "    .dataframe tbody tr th:only-of-type {\n",
       "        vertical-align: middle;\n",
       "    }\n",
       "\n",
       "    .dataframe tbody tr th {\n",
       "        vertical-align: top;\n",
       "    }\n",
       "\n",
       "    .dataframe thead th {\n",
       "        text-align: right;\n",
       "    }\n",
       "</style>\n",
       "<table border=\"1\" class=\"dataframe\">\n",
       "  <thead>\n",
       "    <tr style=\"text-align: right;\">\n",
       "      <th></th>\n",
       "      <th>0</th>\n",
       "      <th>1</th>\n",
       "      <th>2</th>\n",
       "      <th>3</th>\n",
       "      <th>4</th>\n",
       "      <th>A</th>\n",
       "    </tr>\n",
       "  </thead>\n",
       "  <tbody>\n",
       "    <tr>\n",
       "      <th>0</th>\n",
       "      <td>654</td>\n",
       "      <td>0.34311</td>\n",
       "      <td>0.719370</td>\n",
       "      <td>0.919940</td>\n",
       "      <td>0.927085</td>\n",
       "      <td>564.0</td>\n",
       "    </tr>\n",
       "    <tr>\n",
       "      <th>1</th>\n",
       "      <td>0.258618</td>\n",
       "      <td>0.23700</td>\n",
       "      <td>0.147334</td>\n",
       "      <td>0.623601</td>\n",
       "      <td>0.114920</td>\n",
       "      <td>NaN</td>\n",
       "    </tr>\n",
       "  </tbody>\n",
       "</table>\n",
       "</div>"
      ],
      "text/plain": [
       "          0        1         2         3         4      A\n",
       "0       654  0.34311  0.719370  0.919940  0.927085  564.0\n",
       "1  0.258618  0.23700  0.147334  0.623601  0.114920    NaN"
      ]
     },
     "execution_count": 113,
     "metadata": {},
     "output_type": "execute_result"
    }
   ],
   "source": [
    "newdf.head(2)"
   ]
  },
  {
   "cell_type": "code",
   "execution_count": 125,
   "id": "b42c0359-f65a-4647-b52c-db4eb5d435c8",
   "metadata": {},
   "outputs": [],
   "source": [
    "newdf=newdf.drop('A', axis=1)"
   ]
  },
  {
   "cell_type": "code",
   "execution_count": 127,
   "id": "d0dd7d6d-7a8e-4c77-b8f5-c9b1ed21b386",
   "metadata": {},
   "outputs": [
    {
     "data": {
      "text/html": [
       "<div>\n",
       "<style scoped>\n",
       "    .dataframe tbody tr th:only-of-type {\n",
       "        vertical-align: middle;\n",
       "    }\n",
       "\n",
       "    .dataframe tbody tr th {\n",
       "        vertical-align: top;\n",
       "    }\n",
       "\n",
       "    .dataframe thead th {\n",
       "        text-align: right;\n",
       "    }\n",
       "</style>\n",
       "<table border=\"1\" class=\"dataframe\">\n",
       "  <thead>\n",
       "    <tr style=\"text-align: right;\">\n",
       "      <th></th>\n",
       "      <th>0</th>\n",
       "      <th>1</th>\n",
       "      <th>2</th>\n",
       "      <th>3</th>\n",
       "      <th>4</th>\n",
       "    </tr>\n",
       "  </thead>\n",
       "  <tbody>\n",
       "    <tr>\n",
       "      <th>0</th>\n",
       "      <td>654</td>\n",
       "      <td>0.34311</td>\n",
       "      <td>0.719370</td>\n",
       "      <td>0.919940</td>\n",
       "      <td>0.927085</td>\n",
       "    </tr>\n",
       "    <tr>\n",
       "      <th>1</th>\n",
       "      <td>0.258618</td>\n",
       "      <td>0.23700</td>\n",
       "      <td>0.147334</td>\n",
       "      <td>0.623601</td>\n",
       "      <td>0.114920</td>\n",
       "    </tr>\n",
       "  </tbody>\n",
       "</table>\n",
       "</div>"
      ],
      "text/plain": [
       "          0        1         2         3         4\n",
       "0       654  0.34311  0.719370  0.919940  0.927085\n",
       "1  0.258618  0.23700  0.147334  0.623601  0.114920"
      ]
     },
     "execution_count": 127,
     "metadata": {},
     "output_type": "execute_result"
    }
   ],
   "source": [
    "newdf.head(2)"
   ]
  },
  {
   "cell_type": "code",
   "execution_count": 131,
   "id": "05f15297-1aed-4556-bb15-767f81d581f5",
   "metadata": {},
   "outputs": [
    {
     "data": {
      "text/html": [
       "<div>\n",
       "<style scoped>\n",
       "    .dataframe tbody tr th:only-of-type {\n",
       "        vertical-align: middle;\n",
       "    }\n",
       "\n",
       "    .dataframe tbody tr th {\n",
       "        vertical-align: top;\n",
       "    }\n",
       "\n",
       "    .dataframe thead th {\n",
       "        text-align: right;\n",
       "    }\n",
       "</style>\n",
       "<table border=\"1\" class=\"dataframe\">\n",
       "  <thead>\n",
       "    <tr style=\"text-align: right;\">\n",
       "      <th></th>\n",
       "      <th>3</th>\n",
       "      <th>4</th>\n",
       "    </tr>\n",
       "  </thead>\n",
       "  <tbody>\n",
       "    <tr>\n",
       "      <th>1</th>\n",
       "      <td>0.623601</td>\n",
       "      <td>0.114920</td>\n",
       "    </tr>\n",
       "    <tr>\n",
       "      <th>2</th>\n",
       "      <td>0.714555</td>\n",
       "      <td>0.339263</td>\n",
       "    </tr>\n",
       "  </tbody>\n",
       "</table>\n",
       "</div>"
      ],
      "text/plain": [
       "          3         4\n",
       "1  0.623601  0.114920\n",
       "2  0.714555  0.339263"
      ]
     },
     "execution_count": 131,
     "metadata": {},
     "output_type": "execute_result"
    }
   ],
   "source": [
    "# to get some set of columns or rows!\n",
    "newdf.loc[[1,2],[3,4]]"
   ]
  },
  {
   "cell_type": "code",
   "execution_count": 133,
   "id": "ba997673-6f28-4ada-83df-b28ed3145094",
   "metadata": {},
   "outputs": [
    {
     "data": {
      "text/html": [
       "<div>\n",
       "<style scoped>\n",
       "    .dataframe tbody tr th:only-of-type {\n",
       "        vertical-align: middle;\n",
       "    }\n",
       "\n",
       "    .dataframe tbody tr th {\n",
       "        vertical-align: top;\n",
       "    }\n",
       "\n",
       "    .dataframe thead th {\n",
       "        text-align: right;\n",
       "    }\n",
       "</style>\n",
       "<table border=\"1\" class=\"dataframe\">\n",
       "  <thead>\n",
       "    <tr style=\"text-align: right;\">\n",
       "      <th></th>\n",
       "      <th>3</th>\n",
       "      <th>4</th>\n",
       "    </tr>\n",
       "  </thead>\n",
       "  <tbody>\n",
       "    <tr>\n",
       "      <th>0</th>\n",
       "      <td>0.919940</td>\n",
       "      <td>0.927085</td>\n",
       "    </tr>\n",
       "    <tr>\n",
       "      <th>1</th>\n",
       "      <td>0.623601</td>\n",
       "      <td>0.114920</td>\n",
       "    </tr>\n",
       "    <tr>\n",
       "      <th>2</th>\n",
       "      <td>0.714555</td>\n",
       "      <td>0.339263</td>\n",
       "    </tr>\n",
       "    <tr>\n",
       "      <th>3</th>\n",
       "      <td>0.390156</td>\n",
       "      <td>0.361220</td>\n",
       "    </tr>\n",
       "    <tr>\n",
       "      <th>4</th>\n",
       "      <td>0.834424</td>\n",
       "      <td>0.073846</td>\n",
       "    </tr>\n",
       "    <tr>\n",
       "      <th>...</th>\n",
       "      <td>...</td>\n",
       "      <td>...</td>\n",
       "    </tr>\n",
       "    <tr>\n",
       "      <th>329</th>\n",
       "      <td>0.796074</td>\n",
       "      <td>0.394517</td>\n",
       "    </tr>\n",
       "    <tr>\n",
       "      <th>330</th>\n",
       "      <td>0.006777</td>\n",
       "      <td>0.278420</td>\n",
       "    </tr>\n",
       "    <tr>\n",
       "      <th>331</th>\n",
       "      <td>0.726835</td>\n",
       "      <td>0.531463</td>\n",
       "    </tr>\n",
       "    <tr>\n",
       "      <th>332</th>\n",
       "      <td>0.758967</td>\n",
       "      <td>0.222566</td>\n",
       "    </tr>\n",
       "    <tr>\n",
       "      <th>333</th>\n",
       "      <td>0.623691</td>\n",
       "      <td>0.796210</td>\n",
       "    </tr>\n",
       "  </tbody>\n",
       "</table>\n",
       "<p>334 rows × 2 columns</p>\n",
       "</div>"
      ],
      "text/plain": [
       "            3         4\n",
       "0    0.919940  0.927085\n",
       "1    0.623601  0.114920\n",
       "2    0.714555  0.339263\n",
       "3    0.390156  0.361220\n",
       "4    0.834424  0.073846\n",
       "..        ...       ...\n",
       "329  0.796074  0.394517\n",
       "330  0.006777  0.278420\n",
       "331  0.726835  0.531463\n",
       "332  0.758967  0.222566\n",
       "333  0.623691  0.796210\n",
       "\n",
       "[334 rows x 2 columns]"
      ]
     },
     "execution_count": 133,
     "metadata": {},
     "output_type": "execute_result"
    }
   ],
   "source": [
    "# to get all the rows\n",
    "newdf.loc[:, [3,4]]"
   ]
  },
  {
   "cell_type": "code",
   "execution_count": 137,
   "id": "b8973b57-5c61-4dc2-acac-6cb5ed753904",
   "metadata": {},
   "outputs": [
    {
     "data": {
      "text/html": [
       "<div>\n",
       "<style scoped>\n",
       "    .dataframe tbody tr th:only-of-type {\n",
       "        vertical-align: middle;\n",
       "    }\n",
       "\n",
       "    .dataframe tbody tr th {\n",
       "        vertical-align: top;\n",
       "    }\n",
       "\n",
       "    .dataframe thead th {\n",
       "        text-align: right;\n",
       "    }\n",
       "</style>\n",
       "<table border=\"1\" class=\"dataframe\">\n",
       "  <thead>\n",
       "    <tr style=\"text-align: right;\">\n",
       "      <th></th>\n",
       "      <th>0</th>\n",
       "      <th>1</th>\n",
       "      <th>2</th>\n",
       "      <th>3</th>\n",
       "      <th>4</th>\n",
       "    </tr>\n",
       "  </thead>\n",
       "  <tbody>\n",
       "    <tr>\n",
       "      <th>1</th>\n",
       "      <td>0.258618</td>\n",
       "      <td>0.237000</td>\n",
       "      <td>0.147334</td>\n",
       "      <td>0.623601</td>\n",
       "      <td>0.114920</td>\n",
       "    </tr>\n",
       "    <tr>\n",
       "      <th>2</th>\n",
       "      <td>0.128321</td>\n",
       "      <td>0.778908</td>\n",
       "      <td>0.352413</td>\n",
       "      <td>0.714555</td>\n",
       "      <td>0.339263</td>\n",
       "    </tr>\n",
       "  </tbody>\n",
       "</table>\n",
       "</div>"
      ],
      "text/plain": [
       "          0         1         2         3         4\n",
       "1  0.258618  0.237000  0.147334  0.623601  0.114920\n",
       "2  0.128321  0.778908  0.352413  0.714555  0.339263"
      ]
     },
     "execution_count": 137,
     "metadata": {},
     "output_type": "execute_result"
    }
   ],
   "source": [
    "# to get all the columns\n",
    "newdf.loc[[1,2], :]"
   ]
  },
  {
   "cell_type": "code",
   "execution_count": 145,
   "id": "1245f9de-e079-4908-944f-6180373b20de",
   "metadata": {},
   "outputs": [
    {
     "data": {
      "text/html": [
       "<div>\n",
       "<style scoped>\n",
       "    .dataframe tbody tr th:only-of-type {\n",
       "        vertical-align: middle;\n",
       "    }\n",
       "\n",
       "    .dataframe tbody tr th {\n",
       "        vertical-align: top;\n",
       "    }\n",
       "\n",
       "    .dataframe thead th {\n",
       "        text-align: right;\n",
       "    }\n",
       "</style>\n",
       "<table border=\"1\" class=\"dataframe\">\n",
       "  <thead>\n",
       "    <tr style=\"text-align: right;\">\n",
       "      <th></th>\n",
       "      <th>0</th>\n",
       "      <th>1</th>\n",
       "      <th>2</th>\n",
       "      <th>3</th>\n",
       "      <th>4</th>\n",
       "    </tr>\n",
       "  </thead>\n",
       "  <tbody>\n",
       "    <tr>\n",
       "      <th>62</th>\n",
       "      <td>0.086915</td>\n",
       "      <td>0.101386</td>\n",
       "      <td>0.511679</td>\n",
       "      <td>0.933805</td>\n",
       "      <td>0.207530</td>\n",
       "    </tr>\n",
       "    <tr>\n",
       "      <th>78</th>\n",
       "      <td>0.103904</td>\n",
       "      <td>0.155628</td>\n",
       "      <td>0.572153</td>\n",
       "      <td>0.959707</td>\n",
       "      <td>0.874679</td>\n",
       "    </tr>\n",
       "    <tr>\n",
       "      <th>124</th>\n",
       "      <td>0.284591</td>\n",
       "      <td>0.319839</td>\n",
       "      <td>0.247435</td>\n",
       "      <td>0.948253</td>\n",
       "      <td>0.925779</td>\n",
       "    </tr>\n",
       "    <tr>\n",
       "      <th>130</th>\n",
       "      <td>0.059036</td>\n",
       "      <td>0.818781</td>\n",
       "      <td>0.162256</td>\n",
       "      <td>0.900480</td>\n",
       "      <td>0.166867</td>\n",
       "    </tr>\n",
       "    <tr>\n",
       "      <th>167</th>\n",
       "      <td>0.298927</td>\n",
       "      <td>0.675488</td>\n",
       "      <td>0.125135</td>\n",
       "      <td>0.900909</td>\n",
       "      <td>0.062489</td>\n",
       "    </tr>\n",
       "    <tr>\n",
       "      <th>204</th>\n",
       "      <td>0.209435</td>\n",
       "      <td>0.489341</td>\n",
       "      <td>0.758035</td>\n",
       "      <td>0.902922</td>\n",
       "      <td>0.528097</td>\n",
       "    </tr>\n",
       "    <tr>\n",
       "      <th>211</th>\n",
       "      <td>0.069173</td>\n",
       "      <td>0.746971</td>\n",
       "      <td>0.988228</td>\n",
       "      <td>0.949977</td>\n",
       "      <td>0.264283</td>\n",
       "    </tr>\n",
       "    <tr>\n",
       "      <th>213</th>\n",
       "      <td>0.279937</td>\n",
       "      <td>0.529214</td>\n",
       "      <td>0.148584</td>\n",
       "      <td>0.904407</td>\n",
       "      <td>0.445715</td>\n",
       "    </tr>\n",
       "    <tr>\n",
       "      <th>266</th>\n",
       "      <td>0.240007</td>\n",
       "      <td>0.070888</td>\n",
       "      <td>0.283169</td>\n",
       "      <td>0.966793</td>\n",
       "      <td>0.090581</td>\n",
       "    </tr>\n",
       "    <tr>\n",
       "      <th>297</th>\n",
       "      <td>0.156669</td>\n",
       "      <td>0.348847</td>\n",
       "      <td>0.963849</td>\n",
       "      <td>0.960677</td>\n",
       "      <td>0.980351</td>\n",
       "    </tr>\n",
       "  </tbody>\n",
       "</table>\n",
       "</div>"
      ],
      "text/plain": [
       "            0         1         2         3         4\n",
       "62   0.086915  0.101386  0.511679  0.933805  0.207530\n",
       "78   0.103904  0.155628  0.572153  0.959707  0.874679\n",
       "124  0.284591  0.319839  0.247435  0.948253  0.925779\n",
       "130  0.059036  0.818781  0.162256  0.900480  0.166867\n",
       "167  0.298927  0.675488  0.125135  0.900909  0.062489\n",
       "204  0.209435  0.489341  0.758035  0.902922  0.528097\n",
       "211  0.069173  0.746971  0.988228  0.949977  0.264283\n",
       "213  0.279937  0.529214  0.148584  0.904407  0.445715\n",
       "266  0.240007  0.070888  0.283169  0.966793  0.090581\n",
       "297  0.156669  0.348847  0.963849  0.960677  0.980351"
      ]
     },
     "execution_count": 145,
     "metadata": {},
     "output_type": "execute_result"
    }
   ],
   "source": [
    "# we can give more complex and multiple queries \n",
    "newdf.loc[(newdf[0] < 0.3) & (newdf[3] > 0.9)]"
   ]
  },
  {
   "cell_type": "code",
   "execution_count": 147,
   "id": "7101aec2-79f9-42d7-9d9f-f065d4b63b59",
   "metadata": {},
   "outputs": [
    {
     "data": {
      "text/html": [
       "<div>\n",
       "<style scoped>\n",
       "    .dataframe tbody tr th:only-of-type {\n",
       "        vertical-align: middle;\n",
       "    }\n",
       "\n",
       "    .dataframe tbody tr th {\n",
       "        vertical-align: top;\n",
       "    }\n",
       "\n",
       "    .dataframe thead th {\n",
       "        text-align: right;\n",
       "    }\n",
       "</style>\n",
       "<table border=\"1\" class=\"dataframe\">\n",
       "  <thead>\n",
       "    <tr style=\"text-align: right;\">\n",
       "      <th></th>\n",
       "      <th>0</th>\n",
       "      <th>1</th>\n",
       "      <th>2</th>\n",
       "      <th>3</th>\n",
       "      <th>4</th>\n",
       "    </tr>\n",
       "  </thead>\n",
       "  <tbody>\n",
       "    <tr>\n",
       "      <th>0</th>\n",
       "      <td>654</td>\n",
       "      <td>0.34311</td>\n",
       "      <td>0.719370</td>\n",
       "      <td>0.919940</td>\n",
       "      <td>0.927085</td>\n",
       "    </tr>\n",
       "    <tr>\n",
       "      <th>1</th>\n",
       "      <td>0.258618</td>\n",
       "      <td>0.23700</td>\n",
       "      <td>0.147334</td>\n",
       "      <td>0.623601</td>\n",
       "      <td>0.114920</td>\n",
       "    </tr>\n",
       "  </tbody>\n",
       "</table>\n",
       "</div>"
      ],
      "text/plain": [
       "          0        1         2         3         4\n",
       "0       654  0.34311  0.719370  0.919940  0.927085\n",
       "1  0.258618  0.23700  0.147334  0.623601  0.114920"
      ]
     },
     "execution_count": 147,
     "metadata": {},
     "output_type": "execute_result"
    }
   ],
   "source": [
    "newdf.head(2)"
   ]
  },
  {
   "cell_type": "code",
   "execution_count": 151,
   "id": "aba52cfa-8349-4f10-9370-110838e71486",
   "metadata": {},
   "outputs": [
    {
     "data": {
      "text/plain": [
       "0.9270845816521146"
      ]
     },
     "execution_count": 151,
     "metadata": {},
     "output_type": "execute_result"
    }
   ],
   "source": [
    "newdf.iloc[0,4]"
   ]
  },
  {
   "cell_type": "code",
   "execution_count": 153,
   "id": "f4a52762-0aed-43b9-8193-441bcfcf70ef",
   "metadata": {},
   "outputs": [
    {
     "data": {
      "text/html": [
       "<div>\n",
       "<style scoped>\n",
       "    .dataframe tbody tr th:only-of-type {\n",
       "        vertical-align: middle;\n",
       "    }\n",
       "\n",
       "    .dataframe tbody tr th {\n",
       "        vertical-align: top;\n",
       "    }\n",
       "\n",
       "    .dataframe thead th {\n",
       "        text-align: right;\n",
       "    }\n",
       "</style>\n",
       "<table border=\"1\" class=\"dataframe\">\n",
       "  <thead>\n",
       "    <tr style=\"text-align: right;\">\n",
       "      <th></th>\n",
       "      <th>2</th>\n",
       "      <th>4</th>\n",
       "    </tr>\n",
       "  </thead>\n",
       "  <tbody>\n",
       "    <tr>\n",
       "      <th>2</th>\n",
       "      <td>0.352413</td>\n",
       "      <td>0.339263</td>\n",
       "    </tr>\n",
       "    <tr>\n",
       "      <th>5</th>\n",
       "      <td>0.581074</td>\n",
       "      <td>0.418283</td>\n",
       "    </tr>\n",
       "  </tbody>\n",
       "</table>\n",
       "</div>"
      ],
      "text/plain": [
       "          2         4\n",
       "2  0.352413  0.339263\n",
       "5  0.581074  0.418283"
      ]
     },
     "execution_count": 153,
     "metadata": {},
     "output_type": "execute_result"
    }
   ],
   "source": [
    "newdf.iloc[[2,5], [2,4]]"
   ]
  },
  {
   "cell_type": "code",
   "execution_count": 159,
   "id": "67d49cfd-18bd-452c-8b1a-960b2a005da1",
   "metadata": {},
   "outputs": [],
   "source": [
    "# to drop any row\n",
    "newdf=newdf.drop([0])"
   ]
  },
  {
   "cell_type": "code",
   "execution_count": 161,
   "id": "38246ca9-b781-4c12-aeeb-146954e89698",
   "metadata": {},
   "outputs": [
    {
     "data": {
      "text/html": [
       "<div>\n",
       "<style scoped>\n",
       "    .dataframe tbody tr th:only-of-type {\n",
       "        vertical-align: middle;\n",
       "    }\n",
       "\n",
       "    .dataframe tbody tr th {\n",
       "        vertical-align: top;\n",
       "    }\n",
       "\n",
       "    .dataframe thead th {\n",
       "        text-align: right;\n",
       "    }\n",
       "</style>\n",
       "<table border=\"1\" class=\"dataframe\">\n",
       "  <thead>\n",
       "    <tr style=\"text-align: right;\">\n",
       "      <th></th>\n",
       "      <th>0</th>\n",
       "      <th>1</th>\n",
       "      <th>2</th>\n",
       "      <th>3</th>\n",
       "      <th>4</th>\n",
       "    </tr>\n",
       "  </thead>\n",
       "  <tbody>\n",
       "    <tr>\n",
       "      <th>1</th>\n",
       "      <td>0.258618</td>\n",
       "      <td>0.237000</td>\n",
       "      <td>0.147334</td>\n",
       "      <td>0.623601</td>\n",
       "      <td>0.114920</td>\n",
       "    </tr>\n",
       "    <tr>\n",
       "      <th>2</th>\n",
       "      <td>0.128321</td>\n",
       "      <td>0.778908</td>\n",
       "      <td>0.352413</td>\n",
       "      <td>0.714555</td>\n",
       "      <td>0.339263</td>\n",
       "    </tr>\n",
       "    <tr>\n",
       "      <th>3</th>\n",
       "      <td>0.263381</td>\n",
       "      <td>0.849529</td>\n",
       "      <td>0.362151</td>\n",
       "      <td>0.390156</td>\n",
       "      <td>0.361220</td>\n",
       "    </tr>\n",
       "    <tr>\n",
       "      <th>4</th>\n",
       "      <td>0.96095</td>\n",
       "      <td>0.265285</td>\n",
       "      <td>0.015323</td>\n",
       "      <td>0.834424</td>\n",
       "      <td>0.073846</td>\n",
       "    </tr>\n",
       "    <tr>\n",
       "      <th>5</th>\n",
       "      <td>0.230193</td>\n",
       "      <td>0.948312</td>\n",
       "      <td>0.581074</td>\n",
       "      <td>0.754651</td>\n",
       "      <td>0.418283</td>\n",
       "    </tr>\n",
       "  </tbody>\n",
       "</table>\n",
       "</div>"
      ],
      "text/plain": [
       "          0         1         2         3         4\n",
       "1  0.258618  0.237000  0.147334  0.623601  0.114920\n",
       "2  0.128321  0.778908  0.352413  0.714555  0.339263\n",
       "3  0.263381  0.849529  0.362151  0.390156  0.361220\n",
       "4   0.96095  0.265285  0.015323  0.834424  0.073846\n",
       "5  0.230193  0.948312  0.581074  0.754651  0.418283"
      ]
     },
     "execution_count": 161,
     "metadata": {},
     "output_type": "execute_result"
    }
   ],
   "source": [
    "newdf.head()"
   ]
  },
  {
   "cell_type": "code",
   "execution_count": 165,
   "id": "97023b2f-fd61-412f-aef2-6892d3aae7a3",
   "metadata": {},
   "outputs": [
    {
     "data": {
      "text/html": [
       "<div>\n",
       "<style scoped>\n",
       "    .dataframe tbody tr th:only-of-type {\n",
       "        vertical-align: middle;\n",
       "    }\n",
       "\n",
       "    .dataframe tbody tr th {\n",
       "        vertical-align: top;\n",
       "    }\n",
       "\n",
       "    .dataframe thead th {\n",
       "        text-align: right;\n",
       "    }\n",
       "</style>\n",
       "<table border=\"1\" class=\"dataframe\">\n",
       "  <thead>\n",
       "    <tr style=\"text-align: right;\">\n",
       "      <th></th>\n",
       "      <th>index</th>\n",
       "      <th>0</th>\n",
       "      <th>1</th>\n",
       "      <th>2</th>\n",
       "      <th>3</th>\n",
       "      <th>4</th>\n",
       "    </tr>\n",
       "  </thead>\n",
       "  <tbody>\n",
       "    <tr>\n",
       "      <th>0</th>\n",
       "      <td>1</td>\n",
       "      <td>0.258618</td>\n",
       "      <td>0.237000</td>\n",
       "      <td>0.147334</td>\n",
       "      <td>0.623601</td>\n",
       "      <td>0.114920</td>\n",
       "    </tr>\n",
       "    <tr>\n",
       "      <th>1</th>\n",
       "      <td>2</td>\n",
       "      <td>0.128321</td>\n",
       "      <td>0.778908</td>\n",
       "      <td>0.352413</td>\n",
       "      <td>0.714555</td>\n",
       "      <td>0.339263</td>\n",
       "    </tr>\n",
       "    <tr>\n",
       "      <th>2</th>\n",
       "      <td>3</td>\n",
       "      <td>0.263381</td>\n",
       "      <td>0.849529</td>\n",
       "      <td>0.362151</td>\n",
       "      <td>0.390156</td>\n",
       "      <td>0.361220</td>\n",
       "    </tr>\n",
       "    <tr>\n",
       "      <th>3</th>\n",
       "      <td>4</td>\n",
       "      <td>0.96095</td>\n",
       "      <td>0.265285</td>\n",
       "      <td>0.015323</td>\n",
       "      <td>0.834424</td>\n",
       "      <td>0.073846</td>\n",
       "    </tr>\n",
       "    <tr>\n",
       "      <th>4</th>\n",
       "      <td>5</td>\n",
       "      <td>0.230193</td>\n",
       "      <td>0.948312</td>\n",
       "      <td>0.581074</td>\n",
       "      <td>0.754651</td>\n",
       "      <td>0.418283</td>\n",
       "    </tr>\n",
       "    <tr>\n",
       "      <th>...</th>\n",
       "      <td>...</td>\n",
       "      <td>...</td>\n",
       "      <td>...</td>\n",
       "      <td>...</td>\n",
       "      <td>...</td>\n",
       "      <td>...</td>\n",
       "    </tr>\n",
       "    <tr>\n",
       "      <th>328</th>\n",
       "      <td>329</td>\n",
       "      <td>0.318689</td>\n",
       "      <td>0.585936</td>\n",
       "      <td>0.905456</td>\n",
       "      <td>0.796074</td>\n",
       "      <td>0.394517</td>\n",
       "    </tr>\n",
       "    <tr>\n",
       "      <th>329</th>\n",
       "      <td>330</td>\n",
       "      <td>0.912209</td>\n",
       "      <td>0.528468</td>\n",
       "      <td>0.932127</td>\n",
       "      <td>0.006777</td>\n",
       "      <td>0.278420</td>\n",
       "    </tr>\n",
       "    <tr>\n",
       "      <th>330</th>\n",
       "      <td>331</td>\n",
       "      <td>0.361275</td>\n",
       "      <td>0.879308</td>\n",
       "      <td>0.622747</td>\n",
       "      <td>0.726835</td>\n",
       "      <td>0.531463</td>\n",
       "    </tr>\n",
       "    <tr>\n",
       "      <th>331</th>\n",
       "      <td>332</td>\n",
       "      <td>0.498368</td>\n",
       "      <td>0.567262</td>\n",
       "      <td>0.969078</td>\n",
       "      <td>0.758967</td>\n",
       "      <td>0.222566</td>\n",
       "    </tr>\n",
       "    <tr>\n",
       "      <th>332</th>\n",
       "      <td>333</td>\n",
       "      <td>0.478712</td>\n",
       "      <td>0.853376</td>\n",
       "      <td>0.048000</td>\n",
       "      <td>0.623691</td>\n",
       "      <td>0.796210</td>\n",
       "    </tr>\n",
       "  </tbody>\n",
       "</table>\n",
       "<p>333 rows × 6 columns</p>\n",
       "</div>"
      ],
      "text/plain": [
       "     index         0         1         2         3         4\n",
       "0        1  0.258618  0.237000  0.147334  0.623601  0.114920\n",
       "1        2  0.128321  0.778908  0.352413  0.714555  0.339263\n",
       "2        3  0.263381  0.849529  0.362151  0.390156  0.361220\n",
       "3        4   0.96095  0.265285  0.015323  0.834424  0.073846\n",
       "4        5  0.230193  0.948312  0.581074  0.754651  0.418283\n",
       "..     ...       ...       ...       ...       ...       ...\n",
       "328    329  0.318689  0.585936  0.905456  0.796074  0.394517\n",
       "329    330  0.912209  0.528468  0.932127  0.006777  0.278420\n",
       "330    331  0.361275  0.879308  0.622747  0.726835  0.531463\n",
       "331    332  0.498368  0.567262  0.969078  0.758967  0.222566\n",
       "332    333  0.478712  0.853376  0.048000  0.623691  0.796210\n",
       "\n",
       "[333 rows x 6 columns]"
      ]
     },
     "execution_count": 165,
     "metadata": {},
     "output_type": "execute_result"
    }
   ],
   "source": [
    "newdf.reset_index()"
   ]
  },
  {
   "cell_type": "code",
   "execution_count": 169,
   "id": "478991f1-0573-43e0-8fe5-1b485def09f1",
   "metadata": {},
   "outputs": [],
   "source": [
    "newdf.reset_index(drop=True, inplace=True)"
   ]
  },
  {
   "cell_type": "code",
   "execution_count": 171,
   "id": "ef0e522f-6f53-4e33-baa9-1ac47c9d8589",
   "metadata": {},
   "outputs": [
    {
     "data": {
      "text/html": [
       "<div>\n",
       "<style scoped>\n",
       "    .dataframe tbody tr th:only-of-type {\n",
       "        vertical-align: middle;\n",
       "    }\n",
       "\n",
       "    .dataframe tbody tr th {\n",
       "        vertical-align: top;\n",
       "    }\n",
       "\n",
       "    .dataframe thead th {\n",
       "        text-align: right;\n",
       "    }\n",
       "</style>\n",
       "<table border=\"1\" class=\"dataframe\">\n",
       "  <thead>\n",
       "    <tr style=\"text-align: right;\">\n",
       "      <th></th>\n",
       "      <th>0</th>\n",
       "      <th>1</th>\n",
       "      <th>2</th>\n",
       "      <th>3</th>\n",
       "      <th>4</th>\n",
       "    </tr>\n",
       "  </thead>\n",
       "  <tbody>\n",
       "    <tr>\n",
       "      <th>0</th>\n",
       "      <td>0.258618</td>\n",
       "      <td>0.237000</td>\n",
       "      <td>0.147334</td>\n",
       "      <td>0.623601</td>\n",
       "      <td>0.114920</td>\n",
       "    </tr>\n",
       "    <tr>\n",
       "      <th>1</th>\n",
       "      <td>0.128321</td>\n",
       "      <td>0.778908</td>\n",
       "      <td>0.352413</td>\n",
       "      <td>0.714555</td>\n",
       "      <td>0.339263</td>\n",
       "    </tr>\n",
       "  </tbody>\n",
       "</table>\n",
       "</div>"
      ],
      "text/plain": [
       "          0         1         2         3         4\n",
       "0  0.258618  0.237000  0.147334  0.623601  0.114920\n",
       "1  0.128321  0.778908  0.352413  0.714555  0.339263"
      ]
     },
     "execution_count": 171,
     "metadata": {},
     "output_type": "execute_result"
    }
   ],
   "source": [
    "newdf.head(2)"
   ]
  },
  {
   "cell_type": "code",
   "execution_count": 173,
   "id": "1891f55e-348d-4f8b-8d74-e7bae955d08d",
   "metadata": {},
   "outputs": [
    {
     "data": {
      "text/html": [
       "<div>\n",
       "<style scoped>\n",
       "    .dataframe tbody tr th:only-of-type {\n",
       "        vertical-align: middle;\n",
       "    }\n",
       "\n",
       "    .dataframe tbody tr th {\n",
       "        vertical-align: top;\n",
       "    }\n",
       "\n",
       "    .dataframe thead th {\n",
       "        text-align: right;\n",
       "    }\n",
       "</style>\n",
       "<table border=\"1\" class=\"dataframe\">\n",
       "  <thead>\n",
       "    <tr style=\"text-align: right;\">\n",
       "      <th></th>\n",
       "      <th>0</th>\n",
       "      <th>1</th>\n",
       "      <th>2</th>\n",
       "      <th>3</th>\n",
       "      <th>4</th>\n",
       "    </tr>\n",
       "  </thead>\n",
       "  <tbody>\n",
       "    <tr>\n",
       "      <th>0</th>\n",
       "      <td>False</td>\n",
       "      <td>False</td>\n",
       "      <td>False</td>\n",
       "      <td>False</td>\n",
       "      <td>False</td>\n",
       "    </tr>\n",
       "    <tr>\n",
       "      <th>1</th>\n",
       "      <td>False</td>\n",
       "      <td>False</td>\n",
       "      <td>False</td>\n",
       "      <td>False</td>\n",
       "      <td>False</td>\n",
       "    </tr>\n",
       "    <tr>\n",
       "      <th>2</th>\n",
       "      <td>False</td>\n",
       "      <td>False</td>\n",
       "      <td>False</td>\n",
       "      <td>False</td>\n",
       "      <td>False</td>\n",
       "    </tr>\n",
       "    <tr>\n",
       "      <th>3</th>\n",
       "      <td>False</td>\n",
       "      <td>False</td>\n",
       "      <td>False</td>\n",
       "      <td>False</td>\n",
       "      <td>False</td>\n",
       "    </tr>\n",
       "    <tr>\n",
       "      <th>4</th>\n",
       "      <td>False</td>\n",
       "      <td>False</td>\n",
       "      <td>False</td>\n",
       "      <td>False</td>\n",
       "      <td>False</td>\n",
       "    </tr>\n",
       "    <tr>\n",
       "      <th>...</th>\n",
       "      <td>...</td>\n",
       "      <td>...</td>\n",
       "      <td>...</td>\n",
       "      <td>...</td>\n",
       "      <td>...</td>\n",
       "    </tr>\n",
       "    <tr>\n",
       "      <th>328</th>\n",
       "      <td>False</td>\n",
       "      <td>False</td>\n",
       "      <td>False</td>\n",
       "      <td>False</td>\n",
       "      <td>False</td>\n",
       "    </tr>\n",
       "    <tr>\n",
       "      <th>329</th>\n",
       "      <td>False</td>\n",
       "      <td>False</td>\n",
       "      <td>False</td>\n",
       "      <td>False</td>\n",
       "      <td>False</td>\n",
       "    </tr>\n",
       "    <tr>\n",
       "      <th>330</th>\n",
       "      <td>False</td>\n",
       "      <td>False</td>\n",
       "      <td>False</td>\n",
       "      <td>False</td>\n",
       "      <td>False</td>\n",
       "    </tr>\n",
       "    <tr>\n",
       "      <th>331</th>\n",
       "      <td>False</td>\n",
       "      <td>False</td>\n",
       "      <td>False</td>\n",
       "      <td>False</td>\n",
       "      <td>False</td>\n",
       "    </tr>\n",
       "    <tr>\n",
       "      <th>332</th>\n",
       "      <td>False</td>\n",
       "      <td>False</td>\n",
       "      <td>False</td>\n",
       "      <td>False</td>\n",
       "      <td>False</td>\n",
       "    </tr>\n",
       "  </tbody>\n",
       "</table>\n",
       "<p>333 rows × 5 columns</p>\n",
       "</div>"
      ],
      "text/plain": [
       "         0      1      2      3      4\n",
       "0    False  False  False  False  False\n",
       "1    False  False  False  False  False\n",
       "2    False  False  False  False  False\n",
       "3    False  False  False  False  False\n",
       "4    False  False  False  False  False\n",
       "..     ...    ...    ...    ...    ...\n",
       "328  False  False  False  False  False\n",
       "329  False  False  False  False  False\n",
       "330  False  False  False  False  False\n",
       "331  False  False  False  False  False\n",
       "332  False  False  False  False  False\n",
       "\n",
       "[333 rows x 5 columns]"
      ]
     },
     "execution_count": 173,
     "metadata": {},
     "output_type": "execute_result"
    }
   ],
   "source": [
    "newdf.isnull()"
   ]
  },
  {
   "cell_type": "code",
   "execution_count": 197,
   "id": "c35a566f-15f3-4824-9563-ec3d944561b0",
   "metadata": {},
   "outputs": [],
   "source": [
    "df = pd.DataFrame({\n",
    "    'Name': ['John', 'Alice', 'Bob', 'Eve'],\n",
    "    'Age': [23, 35, np.nan, 29],\n",
    "    'City': ['New York', pd.NaT, 'Chicago', 'Houston']\n",
    "})"
   ]
  },
  {
   "cell_type": "code",
   "execution_count": 199,
   "id": "b9fe5304-01bc-47a5-9267-129e73a61714",
   "metadata": {},
   "outputs": [
    {
     "data": {
      "text/html": [
       "<div>\n",
       "<style scoped>\n",
       "    .dataframe tbody tr th:only-of-type {\n",
       "        vertical-align: middle;\n",
       "    }\n",
       "\n",
       "    .dataframe tbody tr th {\n",
       "        vertical-align: top;\n",
       "    }\n",
       "\n",
       "    .dataframe thead th {\n",
       "        text-align: right;\n",
       "    }\n",
       "</style>\n",
       "<table border=\"1\" class=\"dataframe\">\n",
       "  <thead>\n",
       "    <tr style=\"text-align: right;\">\n",
       "      <th></th>\n",
       "      <th>Name</th>\n",
       "      <th>Age</th>\n",
       "      <th>City</th>\n",
       "    </tr>\n",
       "  </thead>\n",
       "  <tbody>\n",
       "    <tr>\n",
       "      <th>0</th>\n",
       "      <td>John</td>\n",
       "      <td>23.0</td>\n",
       "      <td>New York</td>\n",
       "    </tr>\n",
       "    <tr>\n",
       "      <th>1</th>\n",
       "      <td>Alice</td>\n",
       "      <td>35.0</td>\n",
       "      <td>NaT</td>\n",
       "    </tr>\n",
       "    <tr>\n",
       "      <th>2</th>\n",
       "      <td>Bob</td>\n",
       "      <td>NaN</td>\n",
       "      <td>Chicago</td>\n",
       "    </tr>\n",
       "    <tr>\n",
       "      <th>3</th>\n",
       "      <td>Eve</td>\n",
       "      <td>29.0</td>\n",
       "      <td>Houston</td>\n",
       "    </tr>\n",
       "  </tbody>\n",
       "</table>\n",
       "</div>"
      ],
      "text/plain": [
       "    Name   Age      City\n",
       "0   John  23.0  New York\n",
       "1  Alice  35.0       NaT\n",
       "2    Bob   NaN   Chicago\n",
       "3    Eve  29.0   Houston"
      ]
     },
     "execution_count": 199,
     "metadata": {},
     "output_type": "execute_result"
    }
   ],
   "source": [
    "df.head()"
   ]
  },
  {
   "cell_type": "code",
   "execution_count": 195,
   "id": "ebf9ba72-d73f-4272-8d65-05347431ea6b",
   "metadata": {},
   "outputs": [
    {
     "data": {
      "text/html": [
       "<div>\n",
       "<style scoped>\n",
       "    .dataframe tbody tr th:only-of-type {\n",
       "        vertical-align: middle;\n",
       "    }\n",
       "\n",
       "    .dataframe tbody tr th {\n",
       "        vertical-align: top;\n",
       "    }\n",
       "\n",
       "    .dataframe thead th {\n",
       "        text-align: right;\n",
       "    }\n",
       "</style>\n",
       "<table border=\"1\" class=\"dataframe\">\n",
       "  <thead>\n",
       "    <tr style=\"text-align: right;\">\n",
       "      <th></th>\n",
       "      <th>Name</th>\n",
       "      <th>City</th>\n",
       "    </tr>\n",
       "  </thead>\n",
       "  <tbody>\n",
       "    <tr>\n",
       "      <th>0</th>\n",
       "      <td>John</td>\n",
       "      <td>New York</td>\n",
       "    </tr>\n",
       "    <tr>\n",
       "      <th>1</th>\n",
       "      <td>Alice</td>\n",
       "      <td>NaT</td>\n",
       "    </tr>\n",
       "    <tr>\n",
       "      <th>2</th>\n",
       "      <td>Bob</td>\n",
       "      <td>Chicago</td>\n",
       "    </tr>\n",
       "    <tr>\n",
       "      <th>3</th>\n",
       "      <td>Eve</td>\n",
       "      <td>Houston</td>\n",
       "    </tr>\n",
       "  </tbody>\n",
       "</table>\n",
       "</div>"
      ],
      "text/plain": [
       "    Name      City\n",
       "0   John  New York\n",
       "1  Alice       NaT\n",
       "2    Bob   Chicago\n",
       "3    Eve   Houston"
      ]
     },
     "execution_count": 195,
     "metadata": {},
     "output_type": "execute_result"
    }
   ],
   "source": [
    "df.dropna(how='all', axis=1)"
   ]
  },
  {
   "cell_type": "code",
   "execution_count": 201,
   "id": "13d712a1-4606-4e64-959b-972df2678191",
   "metadata": {},
   "outputs": [],
   "source": [
    "df = pd.DataFrame({\n",
    "    'Name': ['John', 'Alice', 'Bob', 'John'],\n",
    "    'Age': [23, 35, np.nan, 29],\n",
    "    'City': ['New York', pd.NaT, 'Chicago', 'Houston']\n",
    "})"
   ]
  },
  {
   "cell_type": "code",
   "execution_count": 203,
   "id": "6aa1bd27-caef-4aa0-a572-9288bf4873c3",
   "metadata": {},
   "outputs": [
    {
     "data": {
      "text/html": [
       "<div>\n",
       "<style scoped>\n",
       "    .dataframe tbody tr th:only-of-type {\n",
       "        vertical-align: middle;\n",
       "    }\n",
       "\n",
       "    .dataframe tbody tr th {\n",
       "        vertical-align: top;\n",
       "    }\n",
       "\n",
       "    .dataframe thead th {\n",
       "        text-align: right;\n",
       "    }\n",
       "</style>\n",
       "<table border=\"1\" class=\"dataframe\">\n",
       "  <thead>\n",
       "    <tr style=\"text-align: right;\">\n",
       "      <th></th>\n",
       "      <th>Name</th>\n",
       "      <th>Age</th>\n",
       "      <th>City</th>\n",
       "    </tr>\n",
       "  </thead>\n",
       "  <tbody>\n",
       "    <tr>\n",
       "      <th>0</th>\n",
       "      <td>John</td>\n",
       "      <td>23.0</td>\n",
       "      <td>New York</td>\n",
       "    </tr>\n",
       "    <tr>\n",
       "      <th>1</th>\n",
       "      <td>Alice</td>\n",
       "      <td>35.0</td>\n",
       "      <td>NaT</td>\n",
       "    </tr>\n",
       "    <tr>\n",
       "      <th>2</th>\n",
       "      <td>Bob</td>\n",
       "      <td>NaN</td>\n",
       "      <td>Chicago</td>\n",
       "    </tr>\n",
       "    <tr>\n",
       "      <th>3</th>\n",
       "      <td>John</td>\n",
       "      <td>29.0</td>\n",
       "      <td>Houston</td>\n",
       "    </tr>\n",
       "  </tbody>\n",
       "</table>\n",
       "</div>"
      ],
      "text/plain": [
       "    Name   Age      City\n",
       "0   John  23.0  New York\n",
       "1  Alice  35.0       NaT\n",
       "2    Bob   NaN   Chicago\n",
       "3   John  29.0   Houston"
      ]
     },
     "execution_count": 203,
     "metadata": {},
     "output_type": "execute_result"
    }
   ],
   "source": [
    "df.head()"
   ]
  },
  {
   "cell_type": "code",
   "execution_count": 207,
   "id": "0c6125f6-c5b9-47d9-b717-47540eb2305b",
   "metadata": {},
   "outputs": [
    {
     "data": {
      "text/plain": [
       "0    False\n",
       "1    False\n",
       "2    False\n",
       "3     True\n",
       "dtype: bool"
      ]
     },
     "execution_count": 207,
     "metadata": {},
     "output_type": "execute_result"
    }
   ],
   "source": [
    "df.duplicated(subset=['Name'])"
   ]
  },
  {
   "cell_type": "code",
   "execution_count": 211,
   "id": "80c5657b-96df-4242-9d05-e97170104cca",
   "metadata": {},
   "outputs": [
    {
     "data": {
      "text/html": [
       "<div>\n",
       "<style scoped>\n",
       "    .dataframe tbody tr th:only-of-type {\n",
       "        vertical-align: middle;\n",
       "    }\n",
       "\n",
       "    .dataframe tbody tr th {\n",
       "        vertical-align: top;\n",
       "    }\n",
       "\n",
       "    .dataframe thead th {\n",
       "        text-align: right;\n",
       "    }\n",
       "</style>\n",
       "<table border=\"1\" class=\"dataframe\">\n",
       "  <thead>\n",
       "    <tr style=\"text-align: right;\">\n",
       "      <th></th>\n",
       "      <th>Name</th>\n",
       "      <th>Age</th>\n",
       "      <th>City</th>\n",
       "    </tr>\n",
       "  </thead>\n",
       "  <tbody>\n",
       "    <tr>\n",
       "      <th>1</th>\n",
       "      <td>Alice</td>\n",
       "      <td>35.0</td>\n",
       "      <td>NaT</td>\n",
       "    </tr>\n",
       "    <tr>\n",
       "      <th>2</th>\n",
       "      <td>Bob</td>\n",
       "      <td>NaN</td>\n",
       "      <td>Chicago</td>\n",
       "    </tr>\n",
       "    <tr>\n",
       "      <th>3</th>\n",
       "      <td>John</td>\n",
       "      <td>29.0</td>\n",
       "      <td>Houston</td>\n",
       "    </tr>\n",
       "  </tbody>\n",
       "</table>\n",
       "</div>"
      ],
      "text/plain": [
       "    Name   Age     City\n",
       "1  Alice  35.0      NaT\n",
       "2    Bob   NaN  Chicago\n",
       "3   John  29.0  Houston"
      ]
     },
     "execution_count": 211,
     "metadata": {},
     "output_type": "execute_result"
    }
   ],
   "source": [
    "df.drop_duplicates(subset=['Name'], keep='last')"
   ]
  },
  {
   "cell_type": "code",
   "execution_count": 213,
   "id": "72d86a7f-f5b3-499e-be0e-621f51060b43",
   "metadata": {},
   "outputs": [
    {
     "data": {
      "text/html": [
       "<div>\n",
       "<style scoped>\n",
       "    .dataframe tbody tr th:only-of-type {\n",
       "        vertical-align: middle;\n",
       "    }\n",
       "\n",
       "    .dataframe tbody tr th {\n",
       "        vertical-align: top;\n",
       "    }\n",
       "\n",
       "    .dataframe thead th {\n",
       "        text-align: right;\n",
       "    }\n",
       "</style>\n",
       "<table border=\"1\" class=\"dataframe\">\n",
       "  <thead>\n",
       "    <tr style=\"text-align: right;\">\n",
       "      <th></th>\n",
       "      <th>Name</th>\n",
       "      <th>Age</th>\n",
       "      <th>City</th>\n",
       "    </tr>\n",
       "  </thead>\n",
       "  <tbody>\n",
       "    <tr>\n",
       "      <th>1</th>\n",
       "      <td>Alice</td>\n",
       "      <td>35.0</td>\n",
       "      <td>NaT</td>\n",
       "    </tr>\n",
       "    <tr>\n",
       "      <th>2</th>\n",
       "      <td>Bob</td>\n",
       "      <td>NaN</td>\n",
       "      <td>Chicago</td>\n",
       "    </tr>\n",
       "  </tbody>\n",
       "</table>\n",
       "</div>"
      ],
      "text/plain": [
       "    Name   Age     City\n",
       "1  Alice  35.0      NaT\n",
       "2    Bob   NaN  Chicago"
      ]
     },
     "execution_count": 213,
     "metadata": {},
     "output_type": "execute_result"
    }
   ],
   "source": [
    "df.drop_duplicates(subset=['Name'], keep=False)"
   ]
  },
  {
   "cell_type": "code",
   "execution_count": 218,
   "id": "dfcf75e9-ac0f-438d-84e1-3da27bc25362",
   "metadata": {},
   "outputs": [
    {
     "data": {
      "text/plain": [
       "(4, 3)"
      ]
     },
     "execution_count": 218,
     "metadata": {},
     "output_type": "execute_result"
    }
   ],
   "source": [
    "# return rows and columns\n",
    "df.shape"
   ]
  },
  {
   "cell_type": "code",
   "execution_count": 220,
   "id": "6f2178e1-f8d7-4863-86d2-ee671ed2871f",
   "metadata": {},
   "outputs": [
    {
     "name": "stdout",
     "output_type": "stream",
     "text": [
      "<class 'pandas.core.frame.DataFrame'>\n",
      "RangeIndex: 4 entries, 0 to 3\n",
      "Data columns (total 3 columns):\n",
      " #   Column  Non-Null Count  Dtype  \n",
      "---  ------  --------------  -----  \n",
      " 0   Name    4 non-null      object \n",
      " 1   Age     3 non-null      float64\n",
      " 2   City    3 non-null      object \n",
      "dtypes: float64(1), object(2)\n",
      "memory usage: 228.0+ bytes\n"
     ]
    }
   ],
   "source": [
    "df.info()"
   ]
  },
  {
   "cell_type": "code",
   "execution_count": 230,
   "id": "1cc75cf6-35df-49f0-ba82-ac3e7fecef53",
   "metadata": {},
   "outputs": [
    {
     "data": {
      "text/plain": [
       "Name\n",
       "John     2\n",
       "Alice    1\n",
       "Bob      1\n",
       "Name: count, dtype: int64"
      ]
     },
     "execution_count": 230,
     "metadata": {},
     "output_type": "execute_result"
    }
   ],
   "source": [
    "df['Name'].value_counts(dropna=False)"
   ]
  },
  {
   "cell_type": "code",
   "execution_count": 232,
   "id": "abd7eac3-b59b-4ebc-9577-7cb71de81a35",
   "metadata": {},
   "outputs": [
    {
     "data": {
      "text/html": [
       "<div>\n",
       "<style scoped>\n",
       "    .dataframe tbody tr th:only-of-type {\n",
       "        vertical-align: middle;\n",
       "    }\n",
       "\n",
       "    .dataframe tbody tr th {\n",
       "        vertical-align: top;\n",
       "    }\n",
       "\n",
       "    .dataframe thead th {\n",
       "        text-align: right;\n",
       "    }\n",
       "</style>\n",
       "<table border=\"1\" class=\"dataframe\">\n",
       "  <thead>\n",
       "    <tr style=\"text-align: right;\">\n",
       "      <th></th>\n",
       "      <th>Name</th>\n",
       "      <th>Age</th>\n",
       "      <th>City</th>\n",
       "    </tr>\n",
       "  </thead>\n",
       "  <tbody>\n",
       "    <tr>\n",
       "      <th>0</th>\n",
       "      <td>True</td>\n",
       "      <td>True</td>\n",
       "      <td>True</td>\n",
       "    </tr>\n",
       "    <tr>\n",
       "      <th>1</th>\n",
       "      <td>True</td>\n",
       "      <td>True</td>\n",
       "      <td>False</td>\n",
       "    </tr>\n",
       "    <tr>\n",
       "      <th>2</th>\n",
       "      <td>True</td>\n",
       "      <td>False</td>\n",
       "      <td>True</td>\n",
       "    </tr>\n",
       "    <tr>\n",
       "      <th>3</th>\n",
       "      <td>True</td>\n",
       "      <td>True</td>\n",
       "      <td>True</td>\n",
       "    </tr>\n",
       "  </tbody>\n",
       "</table>\n",
       "</div>"
      ],
      "text/plain": [
       "   Name    Age   City\n",
       "0  True   True   True\n",
       "1  True   True  False\n",
       "2  True  False   True\n",
       "3  True   True   True"
      ]
     },
     "execution_count": 232,
     "metadata": {},
     "output_type": "execute_result"
    }
   ],
   "source": [
    "df.notnull()"
   ]
  },
  {
   "cell_type": "code",
   "execution_count": 240,
   "id": "1a9de5a8-94a6-4749-854f-832b7eb481aa",
   "metadata": {},
   "outputs": [],
   "source": [
    "df = pd.DataFrame({\n",
    "    'Train No': [16532, 15646, 41564],\n",
    "    'Speed': [100,120,150]\n",
    "})"
   ]
  },
  {
   "cell_type": "code",
   "execution_count": 244,
   "id": "0def0f0f-477c-4d2f-a83e-346f4985b277",
   "metadata": {},
   "outputs": [
    {
     "data": {
      "text/html": [
       "<div>\n",
       "<style scoped>\n",
       "    .dataframe tbody tr th:only-of-type {\n",
       "        vertical-align: middle;\n",
       "    }\n",
       "\n",
       "    .dataframe tbody tr th {\n",
       "        vertical-align: top;\n",
       "    }\n",
       "\n",
       "    .dataframe thead th {\n",
       "        text-align: right;\n",
       "    }\n",
       "</style>\n",
       "<table border=\"1\" class=\"dataframe\">\n",
       "  <thead>\n",
       "    <tr style=\"text-align: right;\">\n",
       "      <th></th>\n",
       "      <th>Train No</th>\n",
       "      <th>Speed</th>\n",
       "    </tr>\n",
       "  </thead>\n",
       "  <tbody>\n",
       "    <tr>\n",
       "      <th>0</th>\n",
       "      <td>16532</td>\n",
       "      <td>100</td>\n",
       "    </tr>\n",
       "    <tr>\n",
       "      <th>1</th>\n",
       "      <td>15646</td>\n",
       "      <td>120</td>\n",
       "    </tr>\n",
       "    <tr>\n",
       "      <th>2</th>\n",
       "      <td>41564</td>\n",
       "      <td>150</td>\n",
       "    </tr>\n",
       "  </tbody>\n",
       "</table>\n",
       "</div>"
      ],
      "text/plain": [
       "   Train No  Speed\n",
       "0     16532    100\n",
       "1     15646    120\n",
       "2     41564    150"
      ]
     },
     "execution_count": 244,
     "metadata": {},
     "output_type": "execute_result"
    }
   ],
   "source": [
    "df.head()"
   ]
  },
  {
   "cell_type": "code",
   "execution_count": 246,
   "id": "e6f778f0-6adf-4262-9812-b998504d418b",
   "metadata": {},
   "outputs": [
    {
     "data": {
      "text/html": [
       "<div>\n",
       "<style scoped>\n",
       "    .dataframe tbody tr th:only-of-type {\n",
       "        vertical-align: middle;\n",
       "    }\n",
       "\n",
       "    .dataframe tbody tr th {\n",
       "        vertical-align: top;\n",
       "    }\n",
       "\n",
       "    .dataframe thead th {\n",
       "        text-align: right;\n",
       "    }\n",
       "</style>\n",
       "<table border=\"1\" class=\"dataframe\">\n",
       "  <thead>\n",
       "    <tr style=\"text-align: right;\">\n",
       "      <th></th>\n",
       "      <th>Train No</th>\n",
       "      <th>Speed</th>\n",
       "    </tr>\n",
       "  </thead>\n",
       "  <tbody>\n",
       "    <tr>\n",
       "      <th>count</th>\n",
       "      <td>3.000000</td>\n",
       "      <td>3.000000</td>\n",
       "    </tr>\n",
       "    <tr>\n",
       "      <th>mean</th>\n",
       "      <td>24580.666667</td>\n",
       "      <td>123.333333</td>\n",
       "    </tr>\n",
       "    <tr>\n",
       "      <th>std</th>\n",
       "      <td>14714.668101</td>\n",
       "      <td>25.166115</td>\n",
       "    </tr>\n",
       "    <tr>\n",
       "      <th>min</th>\n",
       "      <td>15646.000000</td>\n",
       "      <td>100.000000</td>\n",
       "    </tr>\n",
       "    <tr>\n",
       "      <th>25%</th>\n",
       "      <td>16089.000000</td>\n",
       "      <td>110.000000</td>\n",
       "    </tr>\n",
       "    <tr>\n",
       "      <th>50%</th>\n",
       "      <td>16532.000000</td>\n",
       "      <td>120.000000</td>\n",
       "    </tr>\n",
       "    <tr>\n",
       "      <th>75%</th>\n",
       "      <td>29048.000000</td>\n",
       "      <td>135.000000</td>\n",
       "    </tr>\n",
       "    <tr>\n",
       "      <th>max</th>\n",
       "      <td>41564.000000</td>\n",
       "      <td>150.000000</td>\n",
       "    </tr>\n",
       "  </tbody>\n",
       "</table>\n",
       "</div>"
      ],
      "text/plain": [
       "           Train No       Speed\n",
       "count      3.000000    3.000000\n",
       "mean   24580.666667  123.333333\n",
       "std    14714.668101   25.166115\n",
       "min    15646.000000  100.000000\n",
       "25%    16089.000000  110.000000\n",
       "50%    16532.000000  120.000000\n",
       "75%    29048.000000  135.000000\n",
       "max    41564.000000  150.000000"
      ]
     },
     "execution_count": 246,
     "metadata": {},
     "output_type": "execute_result"
    }
   ],
   "source": [
    "df.describe()"
   ]
  },
  {
   "cell_type": "code",
   "execution_count": 248,
   "id": "053ed200-d61b-430a-aa23-09dc6cb5c294",
   "metadata": {},
   "outputs": [
    {
     "data": {
      "text/plain": [
       "Train No    24580.666667\n",
       "Speed         123.333333\n",
       "dtype: float64"
      ]
     },
     "execution_count": 248,
     "metadata": {},
     "output_type": "execute_result"
    }
   ],
   "source": [
    "df.mean()"
   ]
  },
  {
   "cell_type": "code",
   "execution_count": 250,
   "id": "a3182075-288b-42f1-b18c-9841dafbfb7e",
   "metadata": {},
   "outputs": [
    {
     "data": {
      "text/html": [
       "<div>\n",
       "<style scoped>\n",
       "    .dataframe tbody tr th:only-of-type {\n",
       "        vertical-align: middle;\n",
       "    }\n",
       "\n",
       "    .dataframe tbody tr th {\n",
       "        vertical-align: top;\n",
       "    }\n",
       "\n",
       "    .dataframe thead th {\n",
       "        text-align: right;\n",
       "    }\n",
       "</style>\n",
       "<table border=\"1\" class=\"dataframe\">\n",
       "  <thead>\n",
       "    <tr style=\"text-align: right;\">\n",
       "      <th></th>\n",
       "      <th>Train No</th>\n",
       "      <th>Speed</th>\n",
       "    </tr>\n",
       "  </thead>\n",
       "  <tbody>\n",
       "    <tr>\n",
       "      <th>Train No</th>\n",
       "      <td>1.000000</td>\n",
       "      <td>0.905284</td>\n",
       "    </tr>\n",
       "    <tr>\n",
       "      <th>Speed</th>\n",
       "      <td>0.905284</td>\n",
       "      <td>1.000000</td>\n",
       "    </tr>\n",
       "  </tbody>\n",
       "</table>\n",
       "</div>"
      ],
      "text/plain": [
       "          Train No     Speed\n",
       "Train No  1.000000  0.905284\n",
       "Speed     0.905284  1.000000"
      ]
     },
     "execution_count": 250,
     "metadata": {},
     "output_type": "execute_result"
    }
   ],
   "source": [
    "df.corr()"
   ]
  },
  {
   "cell_type": "code",
   "execution_count": 252,
   "id": "2a0332c4-fd49-4556-b177-546bd3cb9949",
   "metadata": {},
   "outputs": [
    {
     "data": {
      "text/plain": [
       "Train No    3\n",
       "Speed       3\n",
       "dtype: int64"
      ]
     },
     "execution_count": 252,
     "metadata": {},
     "output_type": "execute_result"
    }
   ],
   "source": [
    "df.count()"
   ]
  },
  {
   "cell_type": "code",
   "execution_count": 254,
   "id": "bb6a0fe6-f585-458c-b039-90be1deb9a4d",
   "metadata": {},
   "outputs": [
    {
     "data": {
      "text/plain": [
       "Train No    41564\n",
       "Speed         150\n",
       "dtype: int64"
      ]
     },
     "execution_count": 254,
     "metadata": {},
     "output_type": "execute_result"
    }
   ],
   "source": [
    "df.max()"
   ]
  },
  {
   "cell_type": "code",
   "execution_count": 256,
   "id": "f06b619a-3955-4eab-9ad7-7adc2ed05475",
   "metadata": {},
   "outputs": [
    {
     "data": {
      "text/plain": [
       "Train No    15646\n",
       "Speed         100\n",
       "dtype: int64"
      ]
     },
     "execution_count": 256,
     "metadata": {},
     "output_type": "execute_result"
    }
   ],
   "source": [
    "df.min()"
   ]
  },
  {
   "cell_type": "code",
   "execution_count": 258,
   "id": "f600fc49-4dcc-4f93-94c1-e8e04288caa3",
   "metadata": {},
   "outputs": [
    {
     "data": {
      "text/plain": [
       "Train No    16532.0\n",
       "Speed         120.0\n",
       "dtype: float64"
      ]
     },
     "execution_count": 258,
     "metadata": {},
     "output_type": "execute_result"
    }
   ],
   "source": [
    "df.median()"
   ]
  },
  {
   "cell_type": "code",
   "execution_count": 260,
   "id": "2107882f-d149-4f32-8241-cc479296159d",
   "metadata": {},
   "outputs": [
    {
     "data": {
      "text/plain": [
       "Train No    14714.668101\n",
       "Speed          25.166115\n",
       "dtype: float64"
      ]
     },
     "execution_count": 260,
     "metadata": {},
     "output_type": "execute_result"
    }
   ],
   "source": [
    "df.std()"
   ]
  },
  {
   "cell_type": "code",
   "execution_count": null,
   "id": "b6a03823-9d96-4a03-840b-bc2354017f99",
   "metadata": {},
   "outputs": [],
   "source": [
    "# That's all for pandas"
   ]
  }
 ],
 "metadata": {
  "kernelspec": {
   "display_name": "Python 3 (ipykernel)",
   "language": "python",
   "name": "python3"
  },
  "language_info": {
   "codemirror_mode": {
    "name": "ipython",
    "version": 3
   },
   "file_extension": ".py",
   "mimetype": "text/x-python",
   "name": "python",
   "nbconvert_exporter": "python",
   "pygments_lexer": "ipython3",
   "version": "3.12.4"
  }
 },
 "nbformat": 4,
 "nbformat_minor": 5
}
